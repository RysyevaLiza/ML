{
 "cells": [
  {
   "cell_type": "code",
   "execution_count": 1,
   "id": "c3dd6e93",
   "metadata": {},
   "outputs": [],
   "source": [
    "import numpy as np\n",
    "import pandas as pd\n",
    "import seaborn as sns\n",
    "import matplotlib.pyplot as plt\n",
    "%matplotlib inline\n",
    "sns.set(style=\"ticks\")\n",
    "from sklearn.impute import SimpleImputer\n",
    "from sklearn.impute import MissingIndicator\n",
    "from sklearn.preprocessing import LabelEncoder, OneHotEncoder\n",
    "from sklearn.preprocessing import MinMaxScaler, StandardScaler, Normalizer"
   ]
  },
  {
   "cell_type": "code",
   "execution_count": 2,
   "id": "0a0db43f",
   "metadata": {},
   "outputs": [],
   "source": [
    "df = pd.read_csv('games.csv')"
   ]
  },
  {
   "cell_type": "code",
   "execution_count": 3,
   "id": "75268846",
   "metadata": {},
   "outputs": [
    {
     "data": {
      "text/plain": [
       "Index(['Name', 'Platform', 'Year_of_Release', 'Genre', 'NA_sales', 'EU_sales',\n",
       "       'JP_sales', 'Other_sales', 'Critic_Score', 'User_Score', 'Rating'],\n",
       "      dtype='object')"
      ]
     },
     "execution_count": 3,
     "metadata": {},
     "output_type": "execute_result"
    }
   ],
   "source": [
    "df.columns"
   ]
  },
  {
   "cell_type": "code",
   "execution_count": 4,
   "id": "7dfd369d",
   "metadata": {},
   "outputs": [],
   "source": [
    "df = df[['Name', 'Platform', 'Year_of_Release', 'Genre', 'Critic_Score', 'Rating']]"
   ]
  },
  {
   "cell_type": "code",
   "execution_count": 55,
   "id": "8356f34f",
   "metadata": {},
   "outputs": [],
   "source": [
    "data = df.copy()"
   ]
  },
  {
   "cell_type": "code",
   "execution_count": 5,
   "id": "8d32d179",
   "metadata": {},
   "outputs": [
    {
     "name": "stdout",
     "output_type": "stream",
     "text": [
      "<class 'pandas.core.frame.DataFrame'>\n",
      "RangeIndex: 16715 entries, 0 to 16714\n",
      "Data columns (total 6 columns):\n",
      " #   Column           Non-Null Count  Dtype  \n",
      "---  ------           --------------  -----  \n",
      " 0   Name             16713 non-null  object \n",
      " 1   Platform         16715 non-null  object \n",
      " 2   Year_of_Release  16446 non-null  float64\n",
      " 3   Genre            16713 non-null  object \n",
      " 4   Critic_Score     8137 non-null   float64\n",
      " 5   Rating           9949 non-null   object \n",
      "dtypes: float64(2), object(4)\n",
      "memory usage: 783.6+ KB\n"
     ]
    }
   ],
   "source": [
    "df.info()"
   ]
  },
  {
   "cell_type": "code",
   "execution_count": 6,
   "id": "01b034de",
   "metadata": {},
   "outputs": [
    {
     "data": {
      "text/html": [
       "<div>\n",
       "<style scoped>\n",
       "    .dataframe tbody tr th:only-of-type {\n",
       "        vertical-align: middle;\n",
       "    }\n",
       "\n",
       "    .dataframe tbody tr th {\n",
       "        vertical-align: top;\n",
       "    }\n",
       "\n",
       "    .dataframe thead th {\n",
       "        text-align: right;\n",
       "    }\n",
       "</style>\n",
       "<table border=\"1\" class=\"dataframe\">\n",
       "  <thead>\n",
       "    <tr style=\"text-align: right;\">\n",
       "      <th></th>\n",
       "      <th>Total</th>\n",
       "      <th>Percent</th>\n",
       "    </tr>\n",
       "  </thead>\n",
       "  <tbody>\n",
       "    <tr>\n",
       "      <th>Critic_Score</th>\n",
       "      <td>8578</td>\n",
       "      <td>51.319174</td>\n",
       "    </tr>\n",
       "    <tr>\n",
       "      <th>Rating</th>\n",
       "      <td>6766</td>\n",
       "      <td>40.478612</td>\n",
       "    </tr>\n",
       "    <tr>\n",
       "      <th>Year_of_Release</th>\n",
       "      <td>269</td>\n",
       "      <td>1.609333</td>\n",
       "    </tr>\n",
       "    <tr>\n",
       "      <th>Name</th>\n",
       "      <td>2</td>\n",
       "      <td>0.011965</td>\n",
       "    </tr>\n",
       "    <tr>\n",
       "      <th>Genre</th>\n",
       "      <td>2</td>\n",
       "      <td>0.011965</td>\n",
       "    </tr>\n",
       "    <tr>\n",
       "      <th>Platform</th>\n",
       "      <td>0</td>\n",
       "      <td>0.000000</td>\n",
       "    </tr>\n",
       "  </tbody>\n",
       "</table>\n",
       "</div>"
      ],
      "text/plain": [
       "                 Total    Percent\n",
       "Critic_Score      8578  51.319174\n",
       "Rating            6766  40.478612\n",
       "Year_of_Release    269   1.609333\n",
       "Name                 2   0.011965\n",
       "Genre                2   0.011965\n",
       "Platform             0   0.000000"
      ]
     },
     "execution_count": 6,
     "metadata": {},
     "output_type": "execute_result"
    }
   ],
   "source": [
    "def draw_missing(df):\n",
    "    total = df.isnull().sum().sort_values(ascending=False)\n",
    "    percent = (df.isnull().sum()/df.isnull().count()).sort_values(ascending=False)*100\n",
    "    missing_data = pd.concat([total, percent], axis=1, keys=['Total', 'Percent'])\n",
    "    return missing_data\n",
    "draw_missing(df)"
   ]
  },
  {
   "cell_type": "markdown",
   "id": "a72c0fc7",
   "metadata": {},
   "source": [
    "## Обработка пропусков в числовых данных"
   ]
  },
  {
   "cell_type": "code",
   "execution_count": 7,
   "id": "7b6dd567",
   "metadata": {},
   "outputs": [],
   "source": [
    "total_count = df.shape[0]"
   ]
  },
  {
   "cell_type": "code",
   "execution_count": 8,
   "id": "e4c646c8",
   "metadata": {},
   "outputs": [
    {
     "name": "stdout",
     "output_type": "stream",
     "text": [
      "Колонка Year_of_Release. Тип данных float64. Количество пустых значений 269, 1.61%.\n",
      "Колонка Critic_Score. Тип данных float64. Количество пустых значений 8578, 51.32%.\n"
     ]
    }
   ],
   "source": [
    "# Выберем числовые колонки с пропущенными значениями\n",
    "# Цикл по колонкам датасета\n",
    "num_cols = []\n",
    "for col in df.columns:\n",
    "    # Количество пустых значений \n",
    "    temp_null_count = df[df[col].isnull()].shape[0]\n",
    "    dt = str(df[col].dtype)\n",
    "    if temp_null_count>0 and (dt=='float64' or dt =='int64') :\n",
    "        num_cols.append(col)\n",
    "        temp_perc = round((temp_null_count / total_count) * 100.0, 2)\n",
    "        print('Колонка {}. Тип данных {}. Количество пустых значений {}, {}%.'.format(col, dt, temp_null_count, temp_perc))"
   ]
  },
  {
   "cell_type": "code",
   "execution_count": 9,
   "id": "9df284e3",
   "metadata": {},
   "outputs": [
    {
     "data": {
      "text/html": [
       "<div>\n",
       "<style scoped>\n",
       "    .dataframe tbody tr th:only-of-type {\n",
       "        vertical-align: middle;\n",
       "    }\n",
       "\n",
       "    .dataframe tbody tr th {\n",
       "        vertical-align: top;\n",
       "    }\n",
       "\n",
       "    .dataframe thead th {\n",
       "        text-align: right;\n",
       "    }\n",
       "</style>\n",
       "<table border=\"1\" class=\"dataframe\">\n",
       "  <thead>\n",
       "    <tr style=\"text-align: right;\">\n",
       "      <th></th>\n",
       "      <th>Year_of_Release</th>\n",
       "      <th>Critic_Score</th>\n",
       "    </tr>\n",
       "  </thead>\n",
       "  <tbody>\n",
       "    <tr>\n",
       "      <th>0</th>\n",
       "      <td>2006.0</td>\n",
       "      <td>76.0</td>\n",
       "    </tr>\n",
       "    <tr>\n",
       "      <th>1</th>\n",
       "      <td>1985.0</td>\n",
       "      <td>NaN</td>\n",
       "    </tr>\n",
       "    <tr>\n",
       "      <th>2</th>\n",
       "      <td>2008.0</td>\n",
       "      <td>82.0</td>\n",
       "    </tr>\n",
       "    <tr>\n",
       "      <th>3</th>\n",
       "      <td>2009.0</td>\n",
       "      <td>80.0</td>\n",
       "    </tr>\n",
       "    <tr>\n",
       "      <th>4</th>\n",
       "      <td>1996.0</td>\n",
       "      <td>NaN</td>\n",
       "    </tr>\n",
       "    <tr>\n",
       "      <th>...</th>\n",
       "      <td>...</td>\n",
       "      <td>...</td>\n",
       "    </tr>\n",
       "    <tr>\n",
       "      <th>16710</th>\n",
       "      <td>2016.0</td>\n",
       "      <td>NaN</td>\n",
       "    </tr>\n",
       "    <tr>\n",
       "      <th>16711</th>\n",
       "      <td>2006.0</td>\n",
       "      <td>NaN</td>\n",
       "    </tr>\n",
       "    <tr>\n",
       "      <th>16712</th>\n",
       "      <td>2016.0</td>\n",
       "      <td>NaN</td>\n",
       "    </tr>\n",
       "    <tr>\n",
       "      <th>16713</th>\n",
       "      <td>2003.0</td>\n",
       "      <td>NaN</td>\n",
       "    </tr>\n",
       "    <tr>\n",
       "      <th>16714</th>\n",
       "      <td>2016.0</td>\n",
       "      <td>NaN</td>\n",
       "    </tr>\n",
       "  </tbody>\n",
       "</table>\n",
       "<p>16715 rows × 2 columns</p>\n",
       "</div>"
      ],
      "text/plain": [
       "       Year_of_Release  Critic_Score\n",
       "0               2006.0          76.0\n",
       "1               1985.0           NaN\n",
       "2               2008.0          82.0\n",
       "3               2009.0          80.0\n",
       "4               1996.0           NaN\n",
       "...                ...           ...\n",
       "16710           2016.0           NaN\n",
       "16711           2006.0           NaN\n",
       "16712           2016.0           NaN\n",
       "16713           2003.0           NaN\n",
       "16714           2016.0           NaN\n",
       "\n",
       "[16715 rows x 2 columns]"
      ]
     },
     "execution_count": 9,
     "metadata": {},
     "output_type": "execute_result"
    }
   ],
   "source": [
    "df_num = df[num_cols]\n",
    "df_num"
   ]
  },
  {
   "cell_type": "code",
   "execution_count": 10,
   "id": "25c0c64e",
   "metadata": {},
   "outputs": [
    {
     "data": {
      "image/png": "[encoded data removed]",
      "text/plain": [
       "<Figure size 640x480 with 1 Axes>"
      ]
     },
     "metadata": {},
     "output_type": "display_data"
    },
    {
     "data": {
      "image/png": "[encoded data removed]",
      "text/plain": [
       "<Figure size 640x480 with 1 Axes>"
      ]
     },
     "metadata": {},
     "output_type": "display_data"
    }
   ],
   "source": [
    "for col in df_num:\n",
    "    plt.hist(df[col], 50)\n",
    "    plt.xlabel(col)\n",
    "    plt.show()"
   ]
  },
  {
   "cell_type": "code",
   "execution_count": 11,
   "id": "4b9d39a5",
   "metadata": {},
   "outputs": [
    {
     "data": {
      "text/html": [
       "<div>\n",
       "<style scoped>\n",
       "    .dataframe tbody tr th:only-of-type {\n",
       "        vertical-align: middle;\n",
       "    }\n",
       "\n",
       "    .dataframe tbody tr th {\n",
       "        vertical-align: top;\n",
       "    }\n",
       "\n",
       "    .dataframe thead th {\n",
       "        text-align: right;\n",
       "    }\n",
       "</style>\n",
       "<table border=\"1\" class=\"dataframe\">\n",
       "  <thead>\n",
       "    <tr style=\"text-align: right;\">\n",
       "      <th></th>\n",
       "      <th>Year_of_Release</th>\n",
       "    </tr>\n",
       "  </thead>\n",
       "  <tbody>\n",
       "    <tr>\n",
       "      <th>0</th>\n",
       "      <td>2006.0</td>\n",
       "    </tr>\n",
       "    <tr>\n",
       "      <th>1</th>\n",
       "      <td>1985.0</td>\n",
       "    </tr>\n",
       "    <tr>\n",
       "      <th>2</th>\n",
       "      <td>2008.0</td>\n",
       "    </tr>\n",
       "    <tr>\n",
       "      <th>3</th>\n",
       "      <td>2009.0</td>\n",
       "    </tr>\n",
       "    <tr>\n",
       "      <th>4</th>\n",
       "      <td>1996.0</td>\n",
       "    </tr>\n",
       "  </tbody>\n",
       "</table>\n",
       "</div>"
      ],
      "text/plain": [
       "   Year_of_Release\n",
       "0           2006.0\n",
       "1           1985.0\n",
       "2           2008.0\n",
       "3           2009.0\n",
       "4           1996.0"
      ]
     },
     "execution_count": 11,
     "metadata": {},
     "output_type": "execute_result"
    }
   ],
   "source": [
    "data_num_year = df_num[['Year_of_Release']]\n",
    "data_num_year.head()"
   ]
  },
  {
   "cell_type": "code",
   "execution_count": 12,
   "id": "b436e67f",
   "metadata": {},
   "outputs": [
    {
     "data": {
      "text/plain": [
       "array([[False],\n",
       "       [False],\n",
       "       [False],\n",
       "       ...,\n",
       "       [False],\n",
       "       [False],\n",
       "       [False]])"
      ]
     },
     "execution_count": 12,
     "metadata": {},
     "output_type": "execute_result"
    }
   ],
   "source": [
    "#Фильтр для проверки заполнения пустых значений\n",
    "indicator = MissingIndicator()#где были пропуски и чем их заменили \n",
    "mask_missing_values_only = indicator.fit_transform(data_num_year)\n",
    "mask_missing_values_only"
   ]
  },
  {
   "cell_type": "code",
   "execution_count": 13,
   "id": "d8f0a3f9",
   "metadata": {},
   "outputs": [],
   "source": [
    "strategies=['mean', 'median', 'most_frequent'] \n",
    "#какими значениями будем заполнять "
   ]
  },
  {
   "cell_type": "code",
   "execution_count": 14,
   "id": "d826a16d",
   "metadata": {},
   "outputs": [],
   "source": [
    "def test_num_impute(strategy_param):\n",
    "    imp_num = SimpleImputer(strategy=strategy_param)\n",
    "    data_num_imp = imp_num.fit_transform(data_num_year)#заполнение пропусков\n",
    "    return data_num_imp[mask_missing_values_only]"
   ]
  },
  {
   "cell_type": "code",
   "execution_count": 15,
   "id": "a1f15c18",
   "metadata": {},
   "outputs": [
    {
     "data": {
      "text/plain": [
       "('mean',\n",
       " array([2006.48461632, 2006.48461632, 2006.48461632, 2006.48461632,\n",
       "        2006.48461632, 2006.48461632, 2006.48461632, 2006.48461632,\n",
       "        2006.48461632, 2006.48461632, 2006.48461632, 2006.48461632,\n",
       "        2006.48461632, 2006.48461632, 2006.48461632, 2006.48461632,\n",
       "        2006.48461632, 2006.48461632, 2006.48461632, 2006.48461632,\n",
       "        2006.48461632, 2006.48461632, 2006.48461632, 2006.48461632,\n",
       "        2006.48461632, 2006.48461632, 2006.48461632, 2006.48461632,\n",
       "        2006.48461632, 2006.48461632, 2006.48461632, 2006.48461632,\n",
       "        2006.48461632, 2006.48461632, 2006.48461632, 2006.48461632,\n",
       "        2006.48461632, 2006.48461632, 2006.48461632, 2006.48461632,\n",
       "        2006.48461632, 2006.48461632, 2006.48461632, 2006.48461632,\n",
       "        2006.48461632, 2006.48461632, 2006.48461632, 2006.48461632,\n",
       "        2006.48461632, 2006.48461632, 2006.48461632, 2006.48461632,\n",
       "        2006.48461632, 2006.48461632, 2006.48461632, 2006.48461632,\n",
       "        2006.48461632, 2006.48461632, 2006.48461632, 2006.48461632,\n",
       "        2006.48461632, 2006.48461632, 2006.48461632, 2006.48461632,\n",
       "        2006.48461632, 2006.48461632, 2006.48461632, 2006.48461632,\n",
       "        2006.48461632, 2006.48461632, 2006.48461632, 2006.48461632,\n",
       "        2006.48461632, 2006.48461632, 2006.48461632, 2006.48461632,\n",
       "        2006.48461632, 2006.48461632, 2006.48461632, 2006.48461632,\n",
       "        2006.48461632, 2006.48461632, 2006.48461632, 2006.48461632,\n",
       "        2006.48461632, 2006.48461632, 2006.48461632, 2006.48461632,\n",
       "        2006.48461632, 2006.48461632, 2006.48461632, 2006.48461632,\n",
       "        2006.48461632, 2006.48461632, 2006.48461632, 2006.48461632,\n",
       "        2006.48461632, 2006.48461632, 2006.48461632, 2006.48461632,\n",
       "        2006.48461632, 2006.48461632, 2006.48461632, 2006.48461632,\n",
       "        2006.48461632, 2006.48461632, 2006.48461632, 2006.48461632,\n",
       "        2006.48461632, 2006.48461632, 2006.48461632, 2006.48461632,\n",
       "        2006.48461632, 2006.48461632, 2006.48461632, 2006.48461632,\n",
       "        2006.48461632, 2006.48461632, 2006.48461632, 2006.48461632,\n",
       "        2006.48461632, 2006.48461632, 2006.48461632, 2006.48461632,\n",
       "        2006.48461632, 2006.48461632, 2006.48461632, 2006.48461632,\n",
       "        2006.48461632, 2006.48461632, 2006.48461632, 2006.48461632,\n",
       "        2006.48461632, 2006.48461632, 2006.48461632, 2006.48461632,\n",
       "        2006.48461632, 2006.48461632, 2006.48461632, 2006.48461632,\n",
       "        2006.48461632, 2006.48461632, 2006.48461632, 2006.48461632,\n",
       "        2006.48461632, 2006.48461632, 2006.48461632, 2006.48461632,\n",
       "        2006.48461632, 2006.48461632, 2006.48461632, 2006.48461632,\n",
       "        2006.48461632, 2006.48461632, 2006.48461632, 2006.48461632,\n",
       "        2006.48461632, 2006.48461632, 2006.48461632, 2006.48461632,\n",
       "        2006.48461632, 2006.48461632, 2006.48461632, 2006.48461632,\n",
       "        2006.48461632, 2006.48461632, 2006.48461632, 2006.48461632,\n",
       "        2006.48461632, 2006.48461632, 2006.48461632, 2006.48461632,\n",
       "        2006.48461632, 2006.48461632, 2006.48461632, 2006.48461632,\n",
       "        2006.48461632, 2006.48461632, 2006.48461632, 2006.48461632,\n",
       "        2006.48461632, 2006.48461632, 2006.48461632, 2006.48461632,\n",
       "        2006.48461632, 2006.48461632, 2006.48461632, 2006.48461632,\n",
       "        2006.48461632, 2006.48461632, 2006.48461632, 2006.48461632,\n",
       "        2006.48461632, 2006.48461632, 2006.48461632, 2006.48461632,\n",
       "        2006.48461632, 2006.48461632, 2006.48461632, 2006.48461632,\n",
       "        2006.48461632, 2006.48461632, 2006.48461632, 2006.48461632,\n",
       "        2006.48461632, 2006.48461632, 2006.48461632, 2006.48461632,\n",
       "        2006.48461632, 2006.48461632, 2006.48461632, 2006.48461632,\n",
       "        2006.48461632, 2006.48461632, 2006.48461632, 2006.48461632,\n",
       "        2006.48461632, 2006.48461632, 2006.48461632, 2006.48461632,\n",
       "        2006.48461632, 2006.48461632, 2006.48461632, 2006.48461632,\n",
       "        2006.48461632, 2006.48461632, 2006.48461632, 2006.48461632,\n",
       "        2006.48461632, 2006.48461632, 2006.48461632, 2006.48461632,\n",
       "        2006.48461632, 2006.48461632, 2006.48461632, 2006.48461632,\n",
       "        2006.48461632, 2006.48461632, 2006.48461632, 2006.48461632,\n",
       "        2006.48461632, 2006.48461632, 2006.48461632, 2006.48461632,\n",
       "        2006.48461632, 2006.48461632, 2006.48461632, 2006.48461632,\n",
       "        2006.48461632, 2006.48461632, 2006.48461632, 2006.48461632,\n",
       "        2006.48461632, 2006.48461632, 2006.48461632, 2006.48461632,\n",
       "        2006.48461632, 2006.48461632, 2006.48461632, 2006.48461632,\n",
       "        2006.48461632, 2006.48461632, 2006.48461632, 2006.48461632,\n",
       "        2006.48461632, 2006.48461632, 2006.48461632, 2006.48461632,\n",
       "        2006.48461632]))"
      ]
     },
     "execution_count": 15,
     "metadata": {},
     "output_type": "execute_result"
    }
   ],
   "source": [
    "strategies[0], test_num_impute(strategies[0])"
   ]
  },
  {
   "cell_type": "code",
   "execution_count": 16,
   "id": "0ffc5589",
   "metadata": {},
   "outputs": [
    {
     "data": {
      "text/plain": [
       "('median',\n",
       " array([2007., 2007., 2007., 2007., 2007., 2007., 2007., 2007., 2007.,\n",
       "        2007., 2007., 2007., 2007., 2007., 2007., 2007., 2007., 2007.,\n",
       "        2007., 2007., 2007., 2007., 2007., 2007., 2007., 2007., 2007.,\n",
       "        2007., 2007., 2007., 2007., 2007., 2007., 2007., 2007., 2007.,\n",
       "        2007., 2007., 2007., 2007., 2007., 2007., 2007., 2007., 2007.,\n",
       "        2007., 2007., 2007., 2007., 2007., 2007., 2007., 2007., 2007.,\n",
       "        2007., 2007., 2007., 2007., 2007., 2007., 2007., 2007., 2007.,\n",
       "        2007., 2007., 2007., 2007., 2007., 2007., 2007., 2007., 2007.,\n",
       "        2007., 2007., 2007., 2007., 2007., 2007., 2007., 2007., 2007.,\n",
       "        2007., 2007., 2007., 2007., 2007., 2007., 2007., 2007., 2007.,\n",
       "        2007., 2007., 2007., 2007., 2007., 2007., 2007., 2007., 2007.,\n",
       "        2007., 2007., 2007., 2007., 2007., 2007., 2007., 2007., 2007.,\n",
       "        2007., 2007., 2007., 2007., 2007., 2007., 2007., 2007., 2007.,\n",
       "        2007., 2007., 2007., 2007., 2007., 2007., 2007., 2007., 2007.,\n",
       "        2007., 2007., 2007., 2007., 2007., 2007., 2007., 2007., 2007.,\n",
       "        2007., 2007., 2007., 2007., 2007., 2007., 2007., 2007., 2007.,\n",
       "        2007., 2007., 2007., 2007., 2007., 2007., 2007., 2007., 2007.,\n",
       "        2007., 2007., 2007., 2007., 2007., 2007., 2007., 2007., 2007.,\n",
       "        2007., 2007., 2007., 2007., 2007., 2007., 2007., 2007., 2007.,\n",
       "        2007., 2007., 2007., 2007., 2007., 2007., 2007., 2007., 2007.,\n",
       "        2007., 2007., 2007., 2007., 2007., 2007., 2007., 2007., 2007.,\n",
       "        2007., 2007., 2007., 2007., 2007., 2007., 2007., 2007., 2007.,\n",
       "        2007., 2007., 2007., 2007., 2007., 2007., 2007., 2007., 2007.,\n",
       "        2007., 2007., 2007., 2007., 2007., 2007., 2007., 2007., 2007.,\n",
       "        2007., 2007., 2007., 2007., 2007., 2007., 2007., 2007., 2007.,\n",
       "        2007., 2007., 2007., 2007., 2007., 2007., 2007., 2007., 2007.,\n",
       "        2007., 2007., 2007., 2007., 2007., 2007., 2007., 2007., 2007.,\n",
       "        2007., 2007., 2007., 2007., 2007., 2007., 2007., 2007., 2007.,\n",
       "        2007., 2007., 2007., 2007., 2007., 2007., 2007., 2007., 2007.,\n",
       "        2007., 2007., 2007., 2007., 2007., 2007., 2007., 2007.]))"
      ]
     },
     "execution_count": 16,
     "metadata": {},
     "output_type": "execute_result"
    }
   ],
   "source": [
    "strategies[1], test_num_impute(strategies[1])"
   ]
  },
  {
   "cell_type": "code",
   "execution_count": 17,
   "id": "ad1aa8ef",
   "metadata": {},
   "outputs": [
    {
     "name": "stderr",
     "output_type": "stream",
     "text": [
      "/Users/liza/opt/anaconda3/lib/python3.9/site-packages/sklearn/impute/_base.py:49: FutureWarning: Unlike other reduction functions (e.g. `skew`, `kurtosis`), the default behavior of `mode` typically preserves the axis it acts along. In SciPy 1.11.0, this behavior will change: the default value of `keepdims` will become False, the `axis` over which the statistic is taken will be eliminated, and the value None will no longer be accepted. Set `keepdims` to True or False to avoid this warning.\n",
      "  mode = stats.mode(array)\n"
     ]
    },
    {
     "data": {
      "text/plain": [
       "('most_frequent',\n",
       " array([2008., 2008., 2008., 2008., 2008., 2008., 2008., 2008., 2008.,\n",
       "        2008., 2008., 2008., 2008., 2008., 2008., 2008., 2008., 2008.,\n",
       "        2008., 2008., 2008., 2008., 2008., 2008., 2008., 2008., 2008.,\n",
       "        2008., 2008., 2008., 2008., 2008., 2008., 2008., 2008., 2008.,\n",
       "        2008., 2008., 2008., 2008., 2008., 2008., 2008., 2008., 2008.,\n",
       "        2008., 2008., 2008., 2008., 2008., 2008., 2008., 2008., 2008.,\n",
       "        2008., 2008., 2008., 2008., 2008., 2008., 2008., 2008., 2008.,\n",
       "        2008., 2008., 2008., 2008., 2008., 2008., 2008., 2008., 2008.,\n",
       "        2008., 2008., 2008., 2008., 2008., 2008., 2008., 2008., 2008.,\n",
       "        2008., 2008., 2008., 2008., 2008., 2008., 2008., 2008., 2008.,\n",
       "        2008., 2008., 2008., 2008., 2008., 2008., 2008., 2008., 2008.,\n",
       "        2008., 2008., 2008., 2008., 2008., 2008., 2008., 2008., 2008.,\n",
       "        2008., 2008., 2008., 2008., 2008., 2008., 2008., 2008., 2008.,\n",
       "        2008., 2008., 2008., 2008., 2008., 2008., 2008., 2008., 2008.,\n",
       "        2008., 2008., 2008., 2008., 2008., 2008., 2008., 2008., 2008.,\n",
       "        2008., 2008., 2008., 2008., 2008., 2008., 2008., 2008., 2008.,\n",
       "        2008., 2008., 2008., 2008., 2008., 2008., 2008., 2008., 2008.,\n",
       "        2008., 2008., 2008., 2008., 2008., 2008., 2008., 2008., 2008.,\n",
       "        2008., 2008., 2008., 2008., 2008., 2008., 2008., 2008., 2008.,\n",
       "        2008., 2008., 2008., 2008., 2008., 2008., 2008., 2008., 2008.,\n",
       "        2008., 2008., 2008., 2008., 2008., 2008., 2008., 2008., 2008.,\n",
       "        2008., 2008., 2008., 2008., 2008., 2008., 2008., 2008., 2008.,\n",
       "        2008., 2008., 2008., 2008., 2008., 2008., 2008., 2008., 2008.,\n",
       "        2008., 2008., 2008., 2008., 2008., 2008., 2008., 2008., 2008.,\n",
       "        2008., 2008., 2008., 2008., 2008., 2008., 2008., 2008., 2008.,\n",
       "        2008., 2008., 2008., 2008., 2008., 2008., 2008., 2008., 2008.,\n",
       "        2008., 2008., 2008., 2008., 2008., 2008., 2008., 2008., 2008.,\n",
       "        2008., 2008., 2008., 2008., 2008., 2008., 2008., 2008., 2008.,\n",
       "        2008., 2008., 2008., 2008., 2008., 2008., 2008., 2008., 2008.,\n",
       "        2008., 2008., 2008., 2008., 2008., 2008., 2008., 2008.]))"
      ]
     },
     "execution_count": 17,
     "metadata": {},
     "output_type": "execute_result"
    }
   ],
   "source": [
    "strategies[2], test_num_impute(strategies[2])"
   ]
  },
  {
   "cell_type": "code",
   "execution_count": 18,
   "id": "09267de3",
   "metadata": {},
   "outputs": [
    {
     "data": {
      "text/html": [
       "<div>\n",
       "<style scoped>\n",
       "    .dataframe tbody tr th:only-of-type {\n",
       "        vertical-align: middle;\n",
       "    }\n",
       "\n",
       "    .dataframe tbody tr th {\n",
       "        vertical-align: top;\n",
       "    }\n",
       "\n",
       "    .dataframe thead th {\n",
       "        text-align: right;\n",
       "    }\n",
       "</style>\n",
       "<table border=\"1\" class=\"dataframe\">\n",
       "  <thead>\n",
       "    <tr style=\"text-align: right;\">\n",
       "      <th></th>\n",
       "      <th>count</th>\n",
       "      <th>mean</th>\n",
       "      <th>std</th>\n",
       "      <th>min</th>\n",
       "      <th>25%</th>\n",
       "      <th>50%</th>\n",
       "      <th>75%</th>\n",
       "      <th>max</th>\n",
       "    </tr>\n",
       "  </thead>\n",
       "  <tbody>\n",
       "    <tr>\n",
       "      <th>Critic_Score</th>\n",
       "      <td>8137.0</td>\n",
       "      <td>68.967679</td>\n",
       "      <td>13.938165</td>\n",
       "      <td>13.0</td>\n",
       "      <td>60.0</td>\n",
       "      <td>71.0</td>\n",
       "      <td>79.0</td>\n",
       "      <td>98.0</td>\n",
       "    </tr>\n",
       "  </tbody>\n",
       "</table>\n",
       "</div>"
      ],
      "text/plain": [
       "               count       mean        std   min   25%   50%   75%   max\n",
       "Critic_Score  8137.0  68.967679  13.938165  13.0  60.0  71.0  79.0  98.0"
      ]
     },
     "execution_count": 18,
     "metadata": {},
     "output_type": "execute_result"
    }
   ],
   "source": [
    "df[['Critic_Score']].describe().T"
   ]
  },
  {
   "cell_type": "code",
   "execution_count": 19,
   "id": "1e874139",
   "metadata": {},
   "outputs": [],
   "source": [
    "# Более сложная функция, которая позволяет задавать колонку и вид импьютации\n",
    "def test_num_impute_col(dataset, column, strategy_param):\n",
    "    temp_data = dataset[[column]]\n",
    "    \n",
    "    indicator = MissingIndicator()\n",
    "    mask_missing_values_only = indicator.fit_transform(temp_data)\n",
    "    \n",
    "    imp_num = SimpleImputer(strategy=strategy_param)\n",
    "    data_num_imp = imp_num.fit_transform(temp_data)\n",
    "    \n",
    "    filled_data = data_num_imp[mask_missing_values_only]\n",
    "    \n",
    "    return column, strategy_param, filled_data.size, filled_data[0], filled_data[filled_data.size-1]"
   ]
  },
  {
   "cell_type": "code",
   "execution_count": 20,
   "id": "730ee93a",
   "metadata": {},
   "outputs": [
    {
     "data": {
      "text/plain": [
       "('Critic_Score', 'mean', 8578, 68.96767850559173, 68.96767850559173)"
      ]
     },
     "execution_count": 20,
     "metadata": {},
     "output_type": "execute_result"
    }
   ],
   "source": [
    "test_num_impute_col(df, 'Critic_Score', strategies[0])"
   ]
  },
  {
   "cell_type": "code",
   "execution_count": 21,
   "id": "9ae9b330",
   "metadata": {},
   "outputs": [
    {
     "data": {
      "text/plain": [
       "('Critic_Score', 'median', 8578, 71.0, 71.0)"
      ]
     },
     "execution_count": 21,
     "metadata": {},
     "output_type": "execute_result"
    }
   ],
   "source": [
    "test_num_impute_col(df, 'Critic_Score', strategies[1])"
   ]
  },
  {
   "cell_type": "code",
   "execution_count": 22,
   "id": "e3cbd974",
   "metadata": {},
   "outputs": [
    {
     "name": "stderr",
     "output_type": "stream",
     "text": [
      "/Users/liza/opt/anaconda3/lib/python3.9/site-packages/sklearn/impute/_base.py:49: FutureWarning: Unlike other reduction functions (e.g. `skew`, `kurtosis`), the default behavior of `mode` typically preserves the axis it acts along. In SciPy 1.11.0, this behavior will change: the default value of `keepdims` will become False, the `axis` over which the statistic is taken will be eliminated, and the value None will no longer be accepted. Set `keepdims` to True or False to avoid this warning.\n",
      "  mode = stats.mode(array)\n"
     ]
    },
    {
     "data": {
      "text/plain": [
       "('Critic_Score', 'most_frequent', 8578, 70.0, 70.0)"
      ]
     },
     "execution_count": 22,
     "metadata": {},
     "output_type": "execute_result"
    }
   ],
   "source": [
    "test_num_impute_col(df, 'Critic_Score', strategies[2])"
   ]
  },
  {
   "cell_type": "markdown",
   "id": "3d97e319",
   "metadata": {},
   "source": [
    "Заметим, что и в столбце Critic_Score, и Year_of_Release данные распределены однотонно, применив методы заметим, что все три стратегии лежат рядом (те имею одинаковое значение). \n",
    "Поэтому есть смысл заполнить пропуски в столбцах медианой или среднем значением. "
   ]
  },
  {
   "cell_type": "code",
   "execution_count": 23,
   "id": "739cc0d0",
   "metadata": {},
   "outputs": [],
   "source": [
    "df['Critic_Score'] = df['Critic_Score'].fillna(df['Critic_Score'].mean())"
   ]
  },
  {
   "cell_type": "code",
   "execution_count": 24,
   "id": "52fb4ced",
   "metadata": {},
   "outputs": [],
   "source": [
    "df['Year_of_Release'] = df['Year_of_Release'].fillna(df['Year_of_Release'].mean())"
   ]
  },
  {
   "cell_type": "markdown",
   "id": "ec03838b",
   "metadata": {},
   "source": [
    "## Обработка пропусков в категориальных данных"
   ]
  },
  {
   "cell_type": "code",
   "execution_count": 25,
   "id": "fdba1ca1",
   "metadata": {},
   "outputs": [
    {
     "name": "stdout",
     "output_type": "stream",
     "text": [
      "Колонка Name. Тип данных object. Количество пустых значений 2, 0.01%.\n",
      "Колонка Genre. Тип данных object. Количество пустых значений 2, 0.01%.\n",
      "Колонка Rating. Тип данных object. Количество пустых значений 6766, 40.48%.\n"
     ]
    }
   ],
   "source": [
    "num_cols = []\n",
    "for col in df.columns:\n",
    "    # Количество пустых значений \n",
    "    temp_null_count = df[df[col].isnull()].shape[0]\n",
    "    dt = str(df[col].dtype)\n",
    "    if temp_null_count>0 and dt=='object' :\n",
    "        num_cols.append(col)\n",
    "        temp_perc = round((temp_null_count / total_count) * 100.0, 2)\n",
    "        print('Колонка {}. Тип данных {}. Количество пустых значений {}, {}%.'.format(col, dt, temp_null_count, temp_perc))"
   ]
  },
  {
   "cell_type": "code",
   "execution_count": 42,
   "id": "22e1b696",
   "metadata": {},
   "outputs": [
    {
     "data": {
      "text/html": [
       "<div>\n",
       "<style scoped>\n",
       "    .dataframe tbody tr th:only-of-type {\n",
       "        vertical-align: middle;\n",
       "    }\n",
       "\n",
       "    .dataframe tbody tr th {\n",
       "        vertical-align: top;\n",
       "    }\n",
       "\n",
       "    .dataframe thead th {\n",
       "        text-align: right;\n",
       "    }\n",
       "</style>\n",
       "<table border=\"1\" class=\"dataframe\">\n",
       "  <thead>\n",
       "    <tr style=\"text-align: right;\">\n",
       "      <th></th>\n",
       "      <th>Rating</th>\n",
       "    </tr>\n",
       "  </thead>\n",
       "  <tbody>\n",
       "    <tr>\n",
       "      <th>0</th>\n",
       "      <td>E</td>\n",
       "    </tr>\n",
       "    <tr>\n",
       "      <th>1</th>\n",
       "      <td>NaN</td>\n",
       "    </tr>\n",
       "    <tr>\n",
       "      <th>2</th>\n",
       "      <td>E</td>\n",
       "    </tr>\n",
       "    <tr>\n",
       "      <th>3</th>\n",
       "      <td>E</td>\n",
       "    </tr>\n",
       "    <tr>\n",
       "      <th>4</th>\n",
       "      <td>NaN</td>\n",
       "    </tr>\n",
       "  </tbody>\n",
       "</table>\n",
       "</div>"
      ],
      "text/plain": [
       "  Rating\n",
       "0      E\n",
       "1    NaN\n",
       "2      E\n",
       "3      E\n",
       "4    NaN"
      ]
     },
     "execution_count": 42,
     "metadata": {},
     "output_type": "execute_result"
    }
   ],
   "source": [
    "cat_temp_data = df[['Rating']]\n",
    "cat_temp_data.head()"
   ]
  },
  {
   "cell_type": "code",
   "execution_count": 43,
   "id": "c0fdba94",
   "metadata": {},
   "outputs": [
    {
     "data": {
      "text/plain": [
       "array([['E'],\n",
       "       ['E'],\n",
       "       ['E'],\n",
       "       ...,\n",
       "       ['E'],\n",
       "       ['E'],\n",
       "       ['E']], dtype=object)"
      ]
     },
     "execution_count": 43,
     "metadata": {},
     "output_type": "execute_result"
    }
   ],
   "source": [
    "imp2 = SimpleImputer(missing_values=np.nan, strategy='most_frequent')\n",
    "data_imp2 = imp2.fit_transform(cat_temp_data)\n",
    "data_imp2"
   ]
  },
  {
   "cell_type": "code",
   "execution_count": 44,
   "id": "bd839d40",
   "metadata": {},
   "outputs": [
    {
     "data": {
      "text/plain": [
       "array(['AO', 'E', 'E10+', 'EC', 'K-A', 'M', 'RP', 'T'], dtype=object)"
      ]
     },
     "execution_count": 44,
     "metadata": {},
     "output_type": "execute_result"
    }
   ],
   "source": [
    "np.unique(data_imp2)"
   ]
  },
  {
   "cell_type": "code",
   "execution_count": 45,
   "id": "f3d875dd",
   "metadata": {},
   "outputs": [
    {
     "data": {
      "text/plain": [
       "array([['E'],\n",
       "       ['NA'],\n",
       "       ['E'],\n",
       "       ...,\n",
       "       ['NA'],\n",
       "       ['NA'],\n",
       "       ['NA']], dtype=object)"
      ]
     },
     "execution_count": 45,
     "metadata": {},
     "output_type": "execute_result"
    }
   ],
   "source": [
    "imp3 = SimpleImputer(missing_values=np.nan, strategy='constant', fill_value='NA')\n",
    "data_imp3 = imp3.fit_transform(cat_temp_data)\n",
    "data_imp3"
   ]
  },
  {
   "cell_type": "code",
   "execution_count": 46,
   "id": "09ae875c",
   "metadata": {},
   "outputs": [
    {
     "data": {
      "text/plain": [
       "array(['AO', 'E', 'E10+', 'EC', 'K-A', 'M', 'NA', 'RP', 'T'], dtype=object)"
      ]
     },
     "execution_count": 46,
     "metadata": {},
     "output_type": "execute_result"
    }
   ],
   "source": [
    "np.unique(data_imp3)"
   ]
  },
  {
   "cell_type": "code",
   "execution_count": 50,
   "id": "cf814722",
   "metadata": {},
   "outputs": [
    {
     "name": "stdout",
     "output_type": "stream",
     "text": [
      "Количество вхожденией по AO равно 1\n",
      "Количество вхожденией по E равно 3990\n",
      "Количество вхожденией по E10+ равно 1420\n",
      "Количество вхожденией по EC равно 8\n",
      "Количество вхожденией по K-A равно 3\n",
      "Количество вхожденией по M равно 1563\n",
      "Количество вхожденией по NA равно 6766\n",
      "Количество вхожденией по RP равно 3\n",
      "Количество вхожденией по T равно 2961\n"
     ]
    }
   ],
   "source": [
    "col = ['AO', 'E', 'E10+', 'EC', 'K-A', 'M', 'NA', 'RP', 'T']\n",
    "for i in col: \n",
    "    k = data_imp3[data_imp3==i].size\n",
    "    print('Количество вхожденией по {} равно {}'.format(i, k))"
   ]
  },
  {
   "cell_type": "markdown",
   "id": "73921a21",
   "metadata": {},
   "source": [
    "Чаще всего встречается значение NA, поэтому заполним ими пропуски в столбце Rating"
   ]
  },
  {
   "cell_type": "code",
   "execution_count": 51,
   "id": "5b3c894f",
   "metadata": {},
   "outputs": [],
   "source": [
    "df['Rating']= df['Rating'].fillna('NA')"
   ]
  },
  {
   "cell_type": "markdown",
   "id": "006124df",
   "metadata": {},
   "source": [
    "Данные в столбцах Name и Genre заполнить часто встречающими значениями было бы нелогично, поэтому заполним данные константой"
   ]
  },
  {
   "cell_type": "code",
   "execution_count": 52,
   "id": "57da7a98",
   "metadata": {},
   "outputs": [],
   "source": [
    "df['Name']= df['Name'].fillna('unk')"
   ]
  },
  {
   "cell_type": "code",
   "execution_count": 53,
   "id": "ec2a683d",
   "metadata": {},
   "outputs": [],
   "source": [
    "df['Genre']= df['Genre'].fillna('unk')"
   ]
  },
  {
   "cell_type": "markdown",
   "id": "e8ba0d2b",
   "metadata": {},
   "source": [
    "### Проверим пропуски "
   ]
  },
  {
   "cell_type": "code",
   "execution_count": 54,
   "id": "9e0f704e",
   "metadata": {},
   "outputs": [
    {
     "data": {
      "text/plain": [
       "Name               0\n",
       "Platform           0\n",
       "Year_of_Release    0\n",
       "Genre              0\n",
       "Critic_Score       0\n",
       "Rating             0\n",
       "dtype: int64"
      ]
     },
     "execution_count": 54,
     "metadata": {},
     "output_type": "execute_result"
    }
   ],
   "source": [
    "data.isnull().sum()"
   ]
  },
  {
   "cell_type": "markdown",
   "id": "7f097e8f",
   "metadata": {},
   "source": [
    "### Преобразование категориальных признаков в числовые"
   ]
  },
  {
   "cell_type": "code",
   "execution_count": 56,
   "id": "9cd85351",
   "metadata": {},
   "outputs": [
    {
     "data": {
      "text/html": [
       "<div>\n",
       "<style scoped>\n",
       "    .dataframe tbody tr th:only-of-type {\n",
       "        vertical-align: middle;\n",
       "    }\n",
       "\n",
       "    .dataframe tbody tr th {\n",
       "        vertical-align: top;\n",
       "    }\n",
       "\n",
       "    .dataframe thead th {\n",
       "        text-align: right;\n",
       "    }\n",
       "</style>\n",
       "<table border=\"1\" class=\"dataframe\">\n",
       "  <thead>\n",
       "    <tr style=\"text-align: right;\">\n",
       "      <th></th>\n",
       "      <th>c1</th>\n",
       "    </tr>\n",
       "  </thead>\n",
       "  <tbody>\n",
       "    <tr>\n",
       "      <th>0</th>\n",
       "      <td>E</td>\n",
       "    </tr>\n",
       "    <tr>\n",
       "      <th>1</th>\n",
       "      <td>NA</td>\n",
       "    </tr>\n",
       "    <tr>\n",
       "      <th>2</th>\n",
       "      <td>E</td>\n",
       "    </tr>\n",
       "    <tr>\n",
       "      <th>3</th>\n",
       "      <td>E</td>\n",
       "    </tr>\n",
       "    <tr>\n",
       "      <th>4</th>\n",
       "      <td>NA</td>\n",
       "    </tr>\n",
       "    <tr>\n",
       "      <th>...</th>\n",
       "      <td>...</td>\n",
       "    </tr>\n",
       "    <tr>\n",
       "      <th>16710</th>\n",
       "      <td>NA</td>\n",
       "    </tr>\n",
       "    <tr>\n",
       "      <th>16711</th>\n",
       "      <td>NA</td>\n",
       "    </tr>\n",
       "    <tr>\n",
       "      <th>16712</th>\n",
       "      <td>NA</td>\n",
       "    </tr>\n",
       "    <tr>\n",
       "      <th>16713</th>\n",
       "      <td>NA</td>\n",
       "    </tr>\n",
       "    <tr>\n",
       "      <th>16714</th>\n",
       "      <td>NA</td>\n",
       "    </tr>\n",
       "  </tbody>\n",
       "</table>\n",
       "<p>16715 rows × 1 columns</p>\n",
       "</div>"
      ],
      "text/plain": [
       "       c1\n",
       "0       E\n",
       "1      NA\n",
       "2       E\n",
       "3       E\n",
       "4      NA\n",
       "...    ..\n",
       "16710  NA\n",
       "16711  NA\n",
       "16712  NA\n",
       "16713  NA\n",
       "16714  NA\n",
       "\n",
       "[16715 rows x 1 columns]"
      ]
     },
     "execution_count": 56,
     "metadata": {},
     "output_type": "execute_result"
    }
   ],
   "source": [
    "cat_temp_df = df[['Rating']]\n",
    "cat_temp_df.head()\n",
    "\n",
    "imp2 = SimpleImputer(missing_values = np.nan, strategy='most_frequent')\n",
    "df_imp2 = imp2.fit_transform(cat_temp_df)\n",
    "df_imp2\n",
    "\n",
    "cat_enc = pd.DataFrame({'c1':df_imp2.T[0]})\n",
    "cat_enc"
   ]
  },
  {
   "cell_type": "markdown",
   "id": "77852484",
   "metadata": {},
   "source": [
    "### Кодирование категорий наборами бинарных значений"
   ]
  },
  {
   "cell_type": "code",
   "execution_count": 57,
   "id": "1f3abe26",
   "metadata": {},
   "outputs": [
    {
     "data": {
      "text/plain": [
       "(16715, 1)"
      ]
     },
     "execution_count": 57,
     "metadata": {},
     "output_type": "execute_result"
    }
   ],
   "source": [
    "ohe = OneHotEncoder()\n",
    "cat_enc_ohe = ohe.fit_transform(cat_enc[['c1']])\n",
    "cat_enc.shape"
   ]
  },
  {
   "cell_type": "code",
   "execution_count": 58,
   "id": "2468b36e",
   "metadata": {},
   "outputs": [
    {
     "data": {
      "text/plain": [
       "(16715, 9)"
      ]
     },
     "execution_count": 58,
     "metadata": {},
     "output_type": "execute_result"
    }
   ],
   "source": [
    "cat_enc_ohe.shape"
   ]
  },
  {
   "cell_type": "code",
   "execution_count": 59,
   "id": "a7372eb0",
   "metadata": {},
   "outputs": [
    {
     "data": {
      "text/plain": [
       "<16715x9 sparse matrix of type '<class 'numpy.float64'>'\n",
       "\twith 16715 stored elements in Compressed Sparse Row format>"
      ]
     },
     "execution_count": 59,
     "metadata": {},
     "output_type": "execute_result"
    }
   ],
   "source": [
    "cat_enc_ohe"
   ]
  },
  {
   "cell_type": "code",
   "execution_count": 60,
   "id": "b4c38aec",
   "metadata": {},
   "outputs": [
    {
     "data": {
      "text/plain": [
       "matrix([[0., 1., 0., 0., 0., 0., 0., 0., 0.],\n",
       "        [0., 0., 0., 0., 0., 0., 1., 0., 0.],\n",
       "        [0., 1., 0., 0., 0., 0., 0., 0., 0.],\n",
       "        [0., 1., 0., 0., 0., 0., 0., 0., 0.],\n",
       "        [0., 0., 0., 0., 0., 0., 1., 0., 0.],\n",
       "        [0., 0., 0., 0., 0., 0., 1., 0., 0.],\n",
       "        [0., 1., 0., 0., 0., 0., 0., 0., 0.],\n",
       "        [0., 1., 0., 0., 0., 0., 0., 0., 0.],\n",
       "        [0., 1., 0., 0., 0., 0., 0., 0., 0.],\n",
       "        [0., 0., 0., 0., 0., 0., 1., 0., 0.]])"
      ]
     },
     "execution_count": 60,
     "metadata": {},
     "output_type": "execute_result"
    }
   ],
   "source": [
    "cat_enc_ohe.todense()[0:10]"
   ]
  },
  {
   "cell_type": "code",
   "execution_count": 61,
   "id": "d490abb1",
   "metadata": {},
   "outputs": [
    {
     "data": {
      "text/html": [
       "<div>\n",
       "<style scoped>\n",
       "    .dataframe tbody tr th:only-of-type {\n",
       "        vertical-align: middle;\n",
       "    }\n",
       "\n",
       "    .dataframe tbody tr th {\n",
       "        vertical-align: top;\n",
       "    }\n",
       "\n",
       "    .dataframe thead th {\n",
       "        text-align: right;\n",
       "    }\n",
       "</style>\n",
       "<table border=\"1\" class=\"dataframe\">\n",
       "  <thead>\n",
       "    <tr style=\"text-align: right;\">\n",
       "      <th></th>\n",
       "      <th>c1</th>\n",
       "    </tr>\n",
       "  </thead>\n",
       "  <tbody>\n",
       "    <tr>\n",
       "      <th>0</th>\n",
       "      <td>E</td>\n",
       "    </tr>\n",
       "    <tr>\n",
       "      <th>1</th>\n",
       "      <td>NA</td>\n",
       "    </tr>\n",
       "    <tr>\n",
       "      <th>2</th>\n",
       "      <td>E</td>\n",
       "    </tr>\n",
       "    <tr>\n",
       "      <th>3</th>\n",
       "      <td>E</td>\n",
       "    </tr>\n",
       "    <tr>\n",
       "      <th>4</th>\n",
       "      <td>NA</td>\n",
       "    </tr>\n",
       "    <tr>\n",
       "      <th>5</th>\n",
       "      <td>NA</td>\n",
       "    </tr>\n",
       "    <tr>\n",
       "      <th>6</th>\n",
       "      <td>E</td>\n",
       "    </tr>\n",
       "    <tr>\n",
       "      <th>7</th>\n",
       "      <td>E</td>\n",
       "    </tr>\n",
       "    <tr>\n",
       "      <th>8</th>\n",
       "      <td>E</td>\n",
       "    </tr>\n",
       "    <tr>\n",
       "      <th>9</th>\n",
       "      <td>NA</td>\n",
       "    </tr>\n",
       "  </tbody>\n",
       "</table>\n",
       "</div>"
      ],
      "text/plain": [
       "   c1\n",
       "0   E\n",
       "1  NA\n",
       "2   E\n",
       "3   E\n",
       "4  NA\n",
       "5  NA\n",
       "6   E\n",
       "7   E\n",
       "8   E\n",
       "9  NA"
      ]
     },
     "execution_count": 61,
     "metadata": {},
     "output_type": "execute_result"
    }
   ],
   "source": [
    "cat_enc.head(10)"
   ]
  },
  {
   "cell_type": "code",
   "execution_count": 62,
   "id": "8c9ff5f8",
   "metadata": {},
   "outputs": [
    {
     "data": {
      "text/html": [
       "<div>\n",
       "<style scoped>\n",
       "    .dataframe tbody tr th:only-of-type {\n",
       "        vertical-align: middle;\n",
       "    }\n",
       "\n",
       "    .dataframe tbody tr th {\n",
       "        vertical-align: top;\n",
       "    }\n",
       "\n",
       "    .dataframe thead th {\n",
       "        text-align: right;\n",
       "    }\n",
       "</style>\n",
       "<table border=\"1\" class=\"dataframe\">\n",
       "  <thead>\n",
       "    <tr style=\"text-align: right;\">\n",
       "      <th></th>\n",
       "      <th>c1_AO</th>\n",
       "      <th>c1_E</th>\n",
       "      <th>c1_E10+</th>\n",
       "      <th>c1_EC</th>\n",
       "      <th>c1_K-A</th>\n",
       "      <th>c1_M</th>\n",
       "      <th>c1_NA</th>\n",
       "      <th>c1_RP</th>\n",
       "      <th>c1_T</th>\n",
       "    </tr>\n",
       "  </thead>\n",
       "  <tbody>\n",
       "    <tr>\n",
       "      <th>0</th>\n",
       "      <td>0</td>\n",
       "      <td>1</td>\n",
       "      <td>0</td>\n",
       "      <td>0</td>\n",
       "      <td>0</td>\n",
       "      <td>0</td>\n",
       "      <td>0</td>\n",
       "      <td>0</td>\n",
       "      <td>0</td>\n",
       "    </tr>\n",
       "    <tr>\n",
       "      <th>1</th>\n",
       "      <td>0</td>\n",
       "      <td>0</td>\n",
       "      <td>0</td>\n",
       "      <td>0</td>\n",
       "      <td>0</td>\n",
       "      <td>0</td>\n",
       "      <td>1</td>\n",
       "      <td>0</td>\n",
       "      <td>0</td>\n",
       "    </tr>\n",
       "    <tr>\n",
       "      <th>2</th>\n",
       "      <td>0</td>\n",
       "      <td>1</td>\n",
       "      <td>0</td>\n",
       "      <td>0</td>\n",
       "      <td>0</td>\n",
       "      <td>0</td>\n",
       "      <td>0</td>\n",
       "      <td>0</td>\n",
       "      <td>0</td>\n",
       "    </tr>\n",
       "    <tr>\n",
       "      <th>3</th>\n",
       "      <td>0</td>\n",
       "      <td>1</td>\n",
       "      <td>0</td>\n",
       "      <td>0</td>\n",
       "      <td>0</td>\n",
       "      <td>0</td>\n",
       "      <td>0</td>\n",
       "      <td>0</td>\n",
       "      <td>0</td>\n",
       "    </tr>\n",
       "    <tr>\n",
       "      <th>4</th>\n",
       "      <td>0</td>\n",
       "      <td>0</td>\n",
       "      <td>0</td>\n",
       "      <td>0</td>\n",
       "      <td>0</td>\n",
       "      <td>0</td>\n",
       "      <td>1</td>\n",
       "      <td>0</td>\n",
       "      <td>0</td>\n",
       "    </tr>\n",
       "  </tbody>\n",
       "</table>\n",
       "</div>"
      ],
      "text/plain": [
       "   c1_AO  c1_E  c1_E10+  c1_EC  c1_K-A  c1_M  c1_NA  c1_RP  c1_T\n",
       "0      0     1        0      0       0     0      0      0     0\n",
       "1      0     0        0      0       0     0      1      0     0\n",
       "2      0     1        0      0       0     0      0      0     0\n",
       "3      0     1        0      0       0     0      0      0     0\n",
       "4      0     0        0      0       0     0      1      0     0"
      ]
     },
     "execution_count": 62,
     "metadata": {},
     "output_type": "execute_result"
    }
   ],
   "source": [
    "pd.get_dummies(cat_enc).head()"
   ]
  },
  {
   "cell_type": "code",
   "execution_count": 63,
   "id": "dd91a235",
   "metadata": {},
   "outputs": [
    {
     "data": {
      "text/html": [
       "<div>\n",
       "<style scoped>\n",
       "    .dataframe tbody tr th:only-of-type {\n",
       "        vertical-align: middle;\n",
       "    }\n",
       "\n",
       "    .dataframe tbody tr th {\n",
       "        vertical-align: top;\n",
       "    }\n",
       "\n",
       "    .dataframe thead th {\n",
       "        text-align: right;\n",
       "    }\n",
       "</style>\n",
       "<table border=\"1\" class=\"dataframe\">\n",
       "  <thead>\n",
       "    <tr style=\"text-align: right;\">\n",
       "      <th></th>\n",
       "      <th>Rating_AO</th>\n",
       "      <th>Rating_E</th>\n",
       "      <th>Rating_E10+</th>\n",
       "      <th>Rating_EC</th>\n",
       "      <th>Rating_K-A</th>\n",
       "      <th>Rating_M</th>\n",
       "      <th>Rating_RP</th>\n",
       "      <th>Rating_T</th>\n",
       "      <th>Rating_nan</th>\n",
       "    </tr>\n",
       "  </thead>\n",
       "  <tbody>\n",
       "    <tr>\n",
       "      <th>0</th>\n",
       "      <td>0</td>\n",
       "      <td>1</td>\n",
       "      <td>0</td>\n",
       "      <td>0</td>\n",
       "      <td>0</td>\n",
       "      <td>0</td>\n",
       "      <td>0</td>\n",
       "      <td>0</td>\n",
       "      <td>0</td>\n",
       "    </tr>\n",
       "    <tr>\n",
       "      <th>1</th>\n",
       "      <td>0</td>\n",
       "      <td>0</td>\n",
       "      <td>0</td>\n",
       "      <td>0</td>\n",
       "      <td>0</td>\n",
       "      <td>0</td>\n",
       "      <td>0</td>\n",
       "      <td>0</td>\n",
       "      <td>1</td>\n",
       "    </tr>\n",
       "    <tr>\n",
       "      <th>2</th>\n",
       "      <td>0</td>\n",
       "      <td>1</td>\n",
       "      <td>0</td>\n",
       "      <td>0</td>\n",
       "      <td>0</td>\n",
       "      <td>0</td>\n",
       "      <td>0</td>\n",
       "      <td>0</td>\n",
       "      <td>0</td>\n",
       "    </tr>\n",
       "    <tr>\n",
       "      <th>3</th>\n",
       "      <td>0</td>\n",
       "      <td>1</td>\n",
       "      <td>0</td>\n",
       "      <td>0</td>\n",
       "      <td>0</td>\n",
       "      <td>0</td>\n",
       "      <td>0</td>\n",
       "      <td>0</td>\n",
       "      <td>0</td>\n",
       "    </tr>\n",
       "    <tr>\n",
       "      <th>4</th>\n",
       "      <td>0</td>\n",
       "      <td>0</td>\n",
       "      <td>0</td>\n",
       "      <td>0</td>\n",
       "      <td>0</td>\n",
       "      <td>0</td>\n",
       "      <td>0</td>\n",
       "      <td>0</td>\n",
       "      <td>1</td>\n",
       "    </tr>\n",
       "  </tbody>\n",
       "</table>\n",
       "</div>"
      ],
      "text/plain": [
       "   Rating_AO  Rating_E  Rating_E10+  Rating_EC  Rating_K-A  Rating_M  \\\n",
       "0          0         1            0          0           0         0   \n",
       "1          0         0            0          0           0         0   \n",
       "2          0         1            0          0           0         0   \n",
       "3          0         1            0          0           0         0   \n",
       "4          0         0            0          0           0         0   \n",
       "\n",
       "   Rating_RP  Rating_T  Rating_nan  \n",
       "0          0         0           0  \n",
       "1          0         0           1  \n",
       "2          0         0           0  \n",
       "3          0         0           0  \n",
       "4          0         0           1  "
      ]
     },
     "execution_count": 63,
     "metadata": {},
     "output_type": "execute_result"
    }
   ],
   "source": [
    "pd.get_dummies(cat_temp_data, dummy_na=True).head()"
   ]
  },
  {
   "cell_type": "code",
   "execution_count": 64,
   "id": "c20d7f9e",
   "metadata": {},
   "outputs": [
    {
     "name": "stderr",
     "output_type": "stream",
     "text": [
      "/Users/liza/opt/anaconda3/lib/python3.9/site-packages/sklearn/preprocessing/_label.py:115: DataConversionWarning: A column-vector y was passed when a 1d array was expected. Please change the shape of y to (n_samples, ), for example using ravel().\n",
      "  y = column_or_1d(y, warn=True)\n"
     ]
    }
   ],
   "source": [
    "le = LabelEncoder()\n",
    "cat_enc_le = le.fit_transform(df[['Genre']])"
   ]
  },
  {
   "cell_type": "code",
   "execution_count": 65,
   "id": "69902c39",
   "metadata": {},
   "outputs": [
    {
     "data": {
      "text/plain": [
       "array([ 0,  1,  2,  3,  4,  5,  6,  7,  8,  9, 10, 11, 12])"
      ]
     },
     "execution_count": 65,
     "metadata": {},
     "output_type": "execute_result"
    }
   ],
   "source": [
    "np.unique(cat_enc_le)"
   ]
  },
  {
   "cell_type": "code",
   "execution_count": 66,
   "id": "1083f4a3",
   "metadata": {},
   "outputs": [
    {
     "data": {
      "text/plain": [
       "array(['Action', 'Adventure', 'Fighting', 'Misc'], dtype=object)"
      ]
     },
     "execution_count": 66,
     "metadata": {},
     "output_type": "execute_result"
    }
   ],
   "source": [
    "le.inverse_transform([0, 1, 2, 3])"
   ]
  },
  {
   "cell_type": "markdown",
   "id": "6b77ffd4",
   "metadata": {},
   "source": [
    "### Масштабирование данных"
   ]
  },
  {
   "cell_type": "code",
   "execution_count": 39,
   "id": "ae68c7d6",
   "metadata": {},
   "outputs": [
    {
     "data": {
      "image/png": "[encoded data removed]",
      "text/plain": [
       "<Figure size 640x480 with 1 Axes>"
      ]
     },
     "metadata": {},
     "output_type": "display_data"
    }
   ],
   "source": [
    "sc1 = MinMaxScaler()\n",
    "sc1_data = sc1.fit_transform(df[['Critic_Score']])\n",
    "\n",
    "plt.hist(df['Critic_Score'], 50)\n",
    "plt.show()"
   ]
  },
  {
   "cell_type": "code",
   "execution_count": 40,
   "id": "a576d2db",
   "metadata": {},
   "outputs": [
    {
     "data": {
      "image/png": "[encoded data removed]",
      "text/plain": [
       "<Figure size 640x480 with 1 Axes>"
      ]
     },
     "metadata": {},
     "output_type": "display_data"
    }
   ],
   "source": [
    "plt.hist(sc1_data, 50)\n",
    "plt.show()"
   ]
  },
  {
   "cell_type": "code",
   "execution_count": null,
   "id": "05b625c1",
   "metadata": {},
   "outputs": [],
   "source": []
  }
 ],
 "metadata": {
  "authors": [
   {
    "name": "Рысьева Елизавета Антоновна"
   }
  ],
  "group": "ИУ5-61Б",
  "kernelspec": {
   "display_name": "Python 3 (ipykernel)",
   "language": "python",
   "name": "python3"
  },
  "lab_number": 2,
  "language_info": {
   "codemirror_mode": {
    "name": "ipython",
    "version": 3
   },
   "file_extension": ".py",
   "mimetype": "text/x-python",
   "name": "python",
   "nbconvert_exporter": "python",
   "pygments_lexer": "ipython3",
   "version": "3.9.13"
  },
  "title": "Обработка пропусков в данных, кодирование категориальных признаков, масштабирование данных."
 },
 "nbformat": 4,
 "nbformat_minor": 5
}
