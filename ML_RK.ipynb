{
 "cells": [
  {
   "cell_type": "markdown",
   "id": "054f08e1",
   "metadata": {},
   "source": [
    "# Рубежный контроль №1 \n",
    "## Рысьева Елизавета Антоновна \n",
    "### Вариант 15 "
   ]
  },
  {
   "cell_type": "code",
   "execution_count": 1,
   "id": "1f1b3425",
   "metadata": {},
   "outputs": [],
   "source": [
    "import numpy as np\n",
    "import pandas as pd\n",
    "import seaborn as sns\n",
    "import matplotlib.pyplot as plt\n",
    "%matplotlib inline\n",
    "sns.set(style=\"ticks\")\n",
    "from sklearn.impute import SimpleImputer\n",
    "from sklearn.impute import MissingIndicator\n",
    "from sklearn.preprocessing import LabelEncoder, OneHotEncoder\n",
    "from sklearn.preprocessing import MinMaxScaler, StandardScaler, Normalizer"
   ]
  },
  {
   "cell_type": "code",
   "execution_count": 2,
   "id": "c4288e1c",
   "metadata": {},
   "outputs": [],
   "source": [
    "df = pd.read_csv('rest.csv')"
   ]
  },
  {
   "cell_type": "markdown",
   "id": "f3acf3f9",
   "metadata": {},
   "source": [
    "## Получим общую информацию о датасете."
   ]
  },
  {
   "cell_type": "code",
   "execution_count": 3,
   "id": "00e6ec20",
   "metadata": {},
   "outputs": [
    {
     "data": {
      "text/html": [
       "<div>\n",
       "<style scoped>\n",
       "    .dataframe tbody tr th:only-of-type {\n",
       "        vertical-align: middle;\n",
       "    }\n",
       "\n",
       "    .dataframe tbody tr th {\n",
       "        vertical-align: top;\n",
       "    }\n",
       "\n",
       "    .dataframe thead th {\n",
       "        text-align: right;\n",
       "    }\n",
       "</style>\n",
       "<table border=\"1\" class=\"dataframe\">\n",
       "  <thead>\n",
       "    <tr style=\"text-align: right;\">\n",
       "      <th></th>\n",
       "      <th>business_id</th>\n",
       "      <th>business_name</th>\n",
       "      <th>business_address</th>\n",
       "      <th>business_city</th>\n",
       "      <th>business_state</th>\n",
       "      <th>business_postal_code</th>\n",
       "      <th>business_latitude</th>\n",
       "      <th>business_longitude</th>\n",
       "      <th>business_location</th>\n",
       "      <th>business_phone_number</th>\n",
       "      <th>...</th>\n",
       "      <th>inspection_type</th>\n",
       "      <th>violation_id</th>\n",
       "      <th>violation_description</th>\n",
       "      <th>risk_category</th>\n",
       "      <th>Neighborhoods (old)</th>\n",
       "      <th>Police Districts</th>\n",
       "      <th>Supervisor Districts</th>\n",
       "      <th>Fire Prevention Districts</th>\n",
       "      <th>Zip Codes</th>\n",
       "      <th>Analysis Neighborhoods</th>\n",
       "    </tr>\n",
       "  </thead>\n",
       "  <tbody>\n",
       "    <tr>\n",
       "      <th>0</th>\n",
       "      <td>101192</td>\n",
       "      <td>Cochinita #2</td>\n",
       "      <td>2 Marina Blvd Fort Mason</td>\n",
       "      <td>San Francisco</td>\n",
       "      <td>CA</td>\n",
       "      <td>NaN</td>\n",
       "      <td>NaN</td>\n",
       "      <td>NaN</td>\n",
       "      <td>NaN</td>\n",
       "      <td>1.415043e+10</td>\n",
       "      <td>...</td>\n",
       "      <td>New Ownership</td>\n",
       "      <td>NaN</td>\n",
       "      <td>NaN</td>\n",
       "      <td>NaN</td>\n",
       "      <td>NaN</td>\n",
       "      <td>NaN</td>\n",
       "      <td>NaN</td>\n",
       "      <td>NaN</td>\n",
       "      <td>NaN</td>\n",
       "      <td>NaN</td>\n",
       "    </tr>\n",
       "    <tr>\n",
       "      <th>1</th>\n",
       "      <td>97975</td>\n",
       "      <td>BREADBELLY</td>\n",
       "      <td>1408 Clement St</td>\n",
       "      <td>San Francisco</td>\n",
       "      <td>CA</td>\n",
       "      <td>94118</td>\n",
       "      <td>NaN</td>\n",
       "      <td>NaN</td>\n",
       "      <td>NaN</td>\n",
       "      <td>1.415724e+10</td>\n",
       "      <td>...</td>\n",
       "      <td>Routine - Unscheduled</td>\n",
       "      <td>97975_20190725_103124</td>\n",
       "      <td>Inadequately cleaned or sanitized food contact...</td>\n",
       "      <td>Moderate Risk</td>\n",
       "      <td>NaN</td>\n",
       "      <td>NaN</td>\n",
       "      <td>NaN</td>\n",
       "      <td>NaN</td>\n",
       "      <td>NaN</td>\n",
       "      <td>NaN</td>\n",
       "    </tr>\n",
       "    <tr>\n",
       "      <th>2</th>\n",
       "      <td>92982</td>\n",
       "      <td>Great Gold Restaurant</td>\n",
       "      <td>3161 24th St.</td>\n",
       "      <td>San Francisco</td>\n",
       "      <td>CA</td>\n",
       "      <td>94110</td>\n",
       "      <td>NaN</td>\n",
       "      <td>NaN</td>\n",
       "      <td>NaN</td>\n",
       "      <td>NaN</td>\n",
       "      <td>...</td>\n",
       "      <td>New Ownership</td>\n",
       "      <td>NaN</td>\n",
       "      <td>NaN</td>\n",
       "      <td>NaN</td>\n",
       "      <td>NaN</td>\n",
       "      <td>NaN</td>\n",
       "      <td>NaN</td>\n",
       "      <td>NaN</td>\n",
       "      <td>NaN</td>\n",
       "      <td>NaN</td>\n",
       "    </tr>\n",
       "    <tr>\n",
       "      <th>3</th>\n",
       "      <td>101389</td>\n",
       "      <td>HOMAGE</td>\n",
       "      <td>214 CALIFORNIA ST</td>\n",
       "      <td>San Francisco</td>\n",
       "      <td>CA</td>\n",
       "      <td>94111</td>\n",
       "      <td>NaN</td>\n",
       "      <td>NaN</td>\n",
       "      <td>NaN</td>\n",
       "      <td>1.415488e+10</td>\n",
       "      <td>...</td>\n",
       "      <td>New Construction</td>\n",
       "      <td>NaN</td>\n",
       "      <td>NaN</td>\n",
       "      <td>NaN</td>\n",
       "      <td>NaN</td>\n",
       "      <td>NaN</td>\n",
       "      <td>NaN</td>\n",
       "      <td>NaN</td>\n",
       "      <td>NaN</td>\n",
       "      <td>NaN</td>\n",
       "    </tr>\n",
       "    <tr>\n",
       "      <th>4</th>\n",
       "      <td>85986</td>\n",
       "      <td>Pronto Pizza</td>\n",
       "      <td>798 Eddy St</td>\n",
       "      <td>San Francisco</td>\n",
       "      <td>CA</td>\n",
       "      <td>94109</td>\n",
       "      <td>NaN</td>\n",
       "      <td>NaN</td>\n",
       "      <td>NaN</td>\n",
       "      <td>NaN</td>\n",
       "      <td>...</td>\n",
       "      <td>New Ownership</td>\n",
       "      <td>85986_20161011_103114</td>\n",
       "      <td>High risk vermin infestation</td>\n",
       "      <td>High Risk</td>\n",
       "      <td>NaN</td>\n",
       "      <td>NaN</td>\n",
       "      <td>NaN</td>\n",
       "      <td>NaN</td>\n",
       "      <td>NaN</td>\n",
       "      <td>NaN</td>\n",
       "    </tr>\n",
       "  </tbody>\n",
       "</table>\n",
       "<p>5 rows × 23 columns</p>\n",
       "</div>"
      ],
      "text/plain": [
       "   business_id          business_name          business_address  \\\n",
       "0       101192           Cochinita #2  2 Marina Blvd Fort Mason   \n",
       "1        97975             BREADBELLY           1408 Clement St   \n",
       "2        92982  Great Gold Restaurant             3161 24th St.   \n",
       "3       101389                 HOMAGE         214 CALIFORNIA ST   \n",
       "4        85986           Pronto Pizza               798 Eddy St   \n",
       "\n",
       "   business_city business_state business_postal_code  business_latitude  \\\n",
       "0  San Francisco             CA                  NaN                NaN   \n",
       "1  San Francisco             CA                94118                NaN   \n",
       "2  San Francisco             CA                94110                NaN   \n",
       "3  San Francisco             CA                94111                NaN   \n",
       "4  San Francisco             CA                94109                NaN   \n",
       "\n",
       "   business_longitude business_location  business_phone_number  ...  \\\n",
       "0                 NaN               NaN           1.415043e+10  ...   \n",
       "1                 NaN               NaN           1.415724e+10  ...   \n",
       "2                 NaN               NaN                    NaN  ...   \n",
       "3                 NaN               NaN           1.415488e+10  ...   \n",
       "4                 NaN               NaN                    NaN  ...   \n",
       "\n",
       "         inspection_type           violation_id  \\\n",
       "0          New Ownership                    NaN   \n",
       "1  Routine - Unscheduled  97975_20190725_103124   \n",
       "2          New Ownership                    NaN   \n",
       "3       New Construction                    NaN   \n",
       "4          New Ownership  85986_20161011_103114   \n",
       "\n",
       "                               violation_description  risk_category  \\\n",
       "0                                                NaN            NaN   \n",
       "1  Inadequately cleaned or sanitized food contact...  Moderate Risk   \n",
       "2                                                NaN            NaN   \n",
       "3                                                NaN            NaN   \n",
       "4                       High risk vermin infestation      High Risk   \n",
       "\n",
       "  Neighborhoods (old) Police Districts Supervisor Districts  \\\n",
       "0                 NaN              NaN                  NaN   \n",
       "1                 NaN              NaN                  NaN   \n",
       "2                 NaN              NaN                  NaN   \n",
       "3                 NaN              NaN                  NaN   \n",
       "4                 NaN              NaN                  NaN   \n",
       "\n",
       "   Fire Prevention Districts  Zip Codes  Analysis Neighborhoods  \n",
       "0                        NaN        NaN                     NaN  \n",
       "1                        NaN        NaN                     NaN  \n",
       "2                        NaN        NaN                     NaN  \n",
       "3                        NaN        NaN                     NaN  \n",
       "4                        NaN        NaN                     NaN  \n",
       "\n",
       "[5 rows x 23 columns]"
      ]
     },
     "execution_count": 3,
     "metadata": {},
     "output_type": "execute_result"
    }
   ],
   "source": [
    "df.head()"
   ]
  },
  {
   "cell_type": "code",
   "execution_count": 4,
   "id": "6c4be213",
   "metadata": {},
   "outputs": [
    {
     "name": "stdout",
     "output_type": "stream",
     "text": [
      "<class 'pandas.core.frame.DataFrame'>\n",
      "RangeIndex: 53973 entries, 0 to 53972\n",
      "Data columns (total 23 columns):\n",
      " #   Column                     Non-Null Count  Dtype  \n",
      "---  ------                     --------------  -----  \n",
      " 0   business_id                53973 non-null  int64  \n",
      " 1   business_name              53973 non-null  object \n",
      " 2   business_address           53973 non-null  object \n",
      " 3   business_city              53973 non-null  object \n",
      " 4   business_state             53973 non-null  object \n",
      " 5   business_postal_code       52955 non-null  object \n",
      " 6   business_latitude          34417 non-null  float64\n",
      " 7   business_longitude         34417 non-null  float64\n",
      " 8   business_location          34417 non-null  object \n",
      " 9   business_phone_number      17035 non-null  float64\n",
      " 10  inspection_id              53973 non-null  object \n",
      " 11  inspection_date            53973 non-null  object \n",
      " 12  inspection_score           40363 non-null  float64\n",
      " 13  inspection_type            53973 non-null  object \n",
      " 14  violation_id               41103 non-null  object \n",
      " 15  violation_description      41103 non-null  object \n",
      " 16  risk_category              41103 non-null  object \n",
      " 17  Neighborhoods (old)        34379 non-null  float64\n",
      " 18  Police Districts           34379 non-null  float64\n",
      " 19  Supervisor Districts       34379 non-null  float64\n",
      " 20  Fire Prevention Districts  34327 non-null  float64\n",
      " 21  Zip Codes                  34397 non-null  float64\n",
      " 22  Analysis Neighborhoods     34379 non-null  float64\n",
      "dtypes: float64(10), int64(1), object(12)\n",
      "memory usage: 9.5+ MB\n"
     ]
    }
   ],
   "source": [
    "df.info()"
   ]
  },
  {
   "cell_type": "code",
   "execution_count": 5,
   "id": "bed6649e",
   "metadata": {},
   "outputs": [
    {
     "data": {
      "text/html": [
       "<div>\n",
       "<style scoped>\n",
       "    .dataframe tbody tr th:only-of-type {\n",
       "        vertical-align: middle;\n",
       "    }\n",
       "\n",
       "    .dataframe tbody tr th {\n",
       "        vertical-align: top;\n",
       "    }\n",
       "\n",
       "    .dataframe thead th {\n",
       "        text-align: right;\n",
       "    }\n",
       "</style>\n",
       "<table border=\"1\" class=\"dataframe\">\n",
       "  <thead>\n",
       "    <tr style=\"text-align: right;\">\n",
       "      <th></th>\n",
       "      <th>Total</th>\n",
       "      <th>Percent</th>\n",
       "    </tr>\n",
       "  </thead>\n",
       "  <tbody>\n",
       "    <tr>\n",
       "      <th>business_phone_number</th>\n",
       "      <td>36938</td>\n",
       "      <td>68.437923</td>\n",
       "    </tr>\n",
       "    <tr>\n",
       "      <th>Fire Prevention Districts</th>\n",
       "      <td>19646</td>\n",
       "      <td>36.399681</td>\n",
       "    </tr>\n",
       "    <tr>\n",
       "      <th>Analysis Neighborhoods</th>\n",
       "      <td>19594</td>\n",
       "      <td>36.303337</td>\n",
       "    </tr>\n",
       "    <tr>\n",
       "      <th>Supervisor Districts</th>\n",
       "      <td>19594</td>\n",
       "      <td>36.303337</td>\n",
       "    </tr>\n",
       "    <tr>\n",
       "      <th>Police Districts</th>\n",
       "      <td>19594</td>\n",
       "      <td>36.303337</td>\n",
       "    </tr>\n",
       "    <tr>\n",
       "      <th>Neighborhoods (old)</th>\n",
       "      <td>19594</td>\n",
       "      <td>36.303337</td>\n",
       "    </tr>\n",
       "    <tr>\n",
       "      <th>Zip Codes</th>\n",
       "      <td>19576</td>\n",
       "      <td>36.269987</td>\n",
       "    </tr>\n",
       "    <tr>\n",
       "      <th>business_latitude</th>\n",
       "      <td>19556</td>\n",
       "      <td>36.232931</td>\n",
       "    </tr>\n",
       "    <tr>\n",
       "      <th>business_longitude</th>\n",
       "      <td>19556</td>\n",
       "      <td>36.232931</td>\n",
       "    </tr>\n",
       "    <tr>\n",
       "      <th>business_location</th>\n",
       "      <td>19556</td>\n",
       "      <td>36.232931</td>\n",
       "    </tr>\n",
       "    <tr>\n",
       "      <th>inspection_score</th>\n",
       "      <td>13610</td>\n",
       "      <td>25.216312</td>\n",
       "    </tr>\n",
       "    <tr>\n",
       "      <th>violation_description</th>\n",
       "      <td>12870</td>\n",
       "      <td>23.845256</td>\n",
       "    </tr>\n",
       "    <tr>\n",
       "      <th>risk_category</th>\n",
       "      <td>12870</td>\n",
       "      <td>23.845256</td>\n",
       "    </tr>\n",
       "    <tr>\n",
       "      <th>violation_id</th>\n",
       "      <td>12870</td>\n",
       "      <td>23.845256</td>\n",
       "    </tr>\n",
       "    <tr>\n",
       "      <th>business_postal_code</th>\n",
       "      <td>1018</td>\n",
       "      <td>1.886128</td>\n",
       "    </tr>\n",
       "    <tr>\n",
       "      <th>business_id</th>\n",
       "      <td>0</td>\n",
       "      <td>0.000000</td>\n",
       "    </tr>\n",
       "    <tr>\n",
       "      <th>inspection_type</th>\n",
       "      <td>0</td>\n",
       "      <td>0.000000</td>\n",
       "    </tr>\n",
       "    <tr>\n",
       "      <th>business_name</th>\n",
       "      <td>0</td>\n",
       "      <td>0.000000</td>\n",
       "    </tr>\n",
       "    <tr>\n",
       "      <th>inspection_id</th>\n",
       "      <td>0</td>\n",
       "      <td>0.000000</td>\n",
       "    </tr>\n",
       "    <tr>\n",
       "      <th>business_state</th>\n",
       "      <td>0</td>\n",
       "      <td>0.000000</td>\n",
       "    </tr>\n",
       "    <tr>\n",
       "      <th>business_city</th>\n",
       "      <td>0</td>\n",
       "      <td>0.000000</td>\n",
       "    </tr>\n",
       "    <tr>\n",
       "      <th>business_address</th>\n",
       "      <td>0</td>\n",
       "      <td>0.000000</td>\n",
       "    </tr>\n",
       "    <tr>\n",
       "      <th>inspection_date</th>\n",
       "      <td>0</td>\n",
       "      <td>0.000000</td>\n",
       "    </tr>\n",
       "  </tbody>\n",
       "</table>\n",
       "</div>"
      ],
      "text/plain": [
       "                           Total    Percent\n",
       "business_phone_number      36938  68.437923\n",
       "Fire Prevention Districts  19646  36.399681\n",
       "Analysis Neighborhoods     19594  36.303337\n",
       "Supervisor Districts       19594  36.303337\n",
       "Police Districts           19594  36.303337\n",
       "Neighborhoods (old)        19594  36.303337\n",
       "Zip Codes                  19576  36.269987\n",
       "business_latitude          19556  36.232931\n",
       "business_longitude         19556  36.232931\n",
       "business_location          19556  36.232931\n",
       "inspection_score           13610  25.216312\n",
       "violation_description      12870  23.845256\n",
       "risk_category              12870  23.845256\n",
       "violation_id               12870  23.845256\n",
       "business_postal_code        1018   1.886128\n",
       "business_id                    0   0.000000\n",
       "inspection_type                0   0.000000\n",
       "business_name                  0   0.000000\n",
       "inspection_id                  0   0.000000\n",
       "business_state                 0   0.000000\n",
       "business_city                  0   0.000000\n",
       "business_address               0   0.000000\n",
       "inspection_date                0   0.000000"
      ]
     },
     "execution_count": 5,
     "metadata": {},
     "output_type": "execute_result"
    }
   ],
   "source": [
    "def draw_missing(df):\n",
    "    total = df.isnull().sum().sort_values(ascending=False)\n",
    "    percent = (df.isnull().sum()/df.isnull().count()).sort_values(ascending=False)*100\n",
    "    missing_data = pd.concat([total, percent], axis=1, keys=['Total', 'Percent'])\n",
    "    return missing_data\n",
    "draw_missing(df)"
   ]
  },
  {
   "cell_type": "markdown",
   "id": "d34a361f",
   "metadata": {},
   "source": [
    "### Выясним в каких типах данных присутствуют пропуски "
   ]
  },
  {
   "cell_type": "code",
   "execution_count": 6,
   "id": "1e7622e9",
   "metadata": {},
   "outputs": [],
   "source": [
    "total_count = df.shape[0]"
   ]
  },
  {
   "cell_type": "code",
   "execution_count": 7,
   "id": "233d10ec",
   "metadata": {},
   "outputs": [
    {
     "name": "stdout",
     "output_type": "stream",
     "text": [
      "Колонка business_latitude. Тип данных float64. Количество пустых значений 19556, 36.23%.\n",
      "Колонка business_longitude. Тип данных float64. Количество пустых значений 19556, 36.23%.\n",
      "Колонка business_phone_number. Тип данных float64. Количество пустых значений 36938, 68.44%.\n",
      "Колонка inspection_score. Тип данных float64. Количество пустых значений 13610, 25.22%.\n",
      "Колонка Neighborhoods (old). Тип данных float64. Количество пустых значений 19594, 36.3%.\n",
      "Колонка Police Districts. Тип данных float64. Количество пустых значений 19594, 36.3%.\n",
      "Колонка Supervisor Districts. Тип данных float64. Количество пустых значений 19594, 36.3%.\n",
      "Колонка Fire Prevention Districts. Тип данных float64. Количество пустых значений 19646, 36.4%.\n",
      "Колонка Zip Codes. Тип данных float64. Количество пустых значений 19576, 36.27%.\n",
      "Колонка Analysis Neighborhoods. Тип данных float64. Количество пустых значений 19594, 36.3%.\n"
     ]
    }
   ],
   "source": [
    "# Выберем числовые колонки с пропущенными значениями\n",
    "# Цикл по колонкам датасета\n",
    "num_cols = []\n",
    "for col in df.columns:\n",
    "    # Количество пустых значений \n",
    "    temp_null_count = df[df[col].isnull()].shape[0]\n",
    "    dt = str(df[col].dtype)\n",
    "    if temp_null_count>0 and (dt=='float64' or dt =='int64') :\n",
    "        num_cols.append(col)\n",
    "        temp_perc = round((temp_null_count / total_count) * 100.0, 2)\n",
    "        print('Колонка {}. Тип данных {}. Количество пустых значений {}, {}%.'.format(col, dt, temp_null_count, temp_perc))"
   ]
  },
  {
   "cell_type": "code",
   "execution_count": 8,
   "id": "5268d444",
   "metadata": {},
   "outputs": [
    {
     "data": {
      "text/html": [
       "<div>\n",
       "<style scoped>\n",
       "    .dataframe tbody tr th:only-of-type {\n",
       "        vertical-align: middle;\n",
       "    }\n",
       "\n",
       "    .dataframe tbody tr th {\n",
       "        vertical-align: top;\n",
       "    }\n",
       "\n",
       "    .dataframe thead th {\n",
       "        text-align: right;\n",
       "    }\n",
       "</style>\n",
       "<table border=\"1\" class=\"dataframe\">\n",
       "  <thead>\n",
       "    <tr style=\"text-align: right;\">\n",
       "      <th></th>\n",
       "      <th>business_latitude</th>\n",
       "      <th>business_longitude</th>\n",
       "      <th>business_phone_number</th>\n",
       "      <th>inspection_score</th>\n",
       "      <th>Neighborhoods (old)</th>\n",
       "      <th>Police Districts</th>\n",
       "      <th>Supervisor Districts</th>\n",
       "      <th>Fire Prevention Districts</th>\n",
       "      <th>Zip Codes</th>\n",
       "      <th>Analysis Neighborhoods</th>\n",
       "    </tr>\n",
       "  </thead>\n",
       "  <tbody>\n",
       "    <tr>\n",
       "      <th>0</th>\n",
       "      <td>NaN</td>\n",
       "      <td>NaN</td>\n",
       "      <td>1.415043e+10</td>\n",
       "      <td>NaN</td>\n",
       "      <td>NaN</td>\n",
       "      <td>NaN</td>\n",
       "      <td>NaN</td>\n",
       "      <td>NaN</td>\n",
       "      <td>NaN</td>\n",
       "      <td>NaN</td>\n",
       "    </tr>\n",
       "    <tr>\n",
       "      <th>1</th>\n",
       "      <td>NaN</td>\n",
       "      <td>NaN</td>\n",
       "      <td>1.415724e+10</td>\n",
       "      <td>96.0</td>\n",
       "      <td>NaN</td>\n",
       "      <td>NaN</td>\n",
       "      <td>NaN</td>\n",
       "      <td>NaN</td>\n",
       "      <td>NaN</td>\n",
       "      <td>NaN</td>\n",
       "    </tr>\n",
       "    <tr>\n",
       "      <th>2</th>\n",
       "      <td>NaN</td>\n",
       "      <td>NaN</td>\n",
       "      <td>NaN</td>\n",
       "      <td>NaN</td>\n",
       "      <td>NaN</td>\n",
       "      <td>NaN</td>\n",
       "      <td>NaN</td>\n",
       "      <td>NaN</td>\n",
       "      <td>NaN</td>\n",
       "      <td>NaN</td>\n",
       "    </tr>\n",
       "    <tr>\n",
       "      <th>3</th>\n",
       "      <td>NaN</td>\n",
       "      <td>NaN</td>\n",
       "      <td>1.415488e+10</td>\n",
       "      <td>NaN</td>\n",
       "      <td>NaN</td>\n",
       "      <td>NaN</td>\n",
       "      <td>NaN</td>\n",
       "      <td>NaN</td>\n",
       "      <td>NaN</td>\n",
       "      <td>NaN</td>\n",
       "    </tr>\n",
       "    <tr>\n",
       "      <th>4</th>\n",
       "      <td>NaN</td>\n",
       "      <td>NaN</td>\n",
       "      <td>NaN</td>\n",
       "      <td>NaN</td>\n",
       "      <td>NaN</td>\n",
       "      <td>NaN</td>\n",
       "      <td>NaN</td>\n",
       "      <td>NaN</td>\n",
       "      <td>NaN</td>\n",
       "      <td>NaN</td>\n",
       "    </tr>\n",
       "    <tr>\n",
       "      <th>...</th>\n",
       "      <td>...</td>\n",
       "      <td>...</td>\n",
       "      <td>...</td>\n",
       "      <td>...</td>\n",
       "      <td>...</td>\n",
       "      <td>...</td>\n",
       "      <td>...</td>\n",
       "      <td>...</td>\n",
       "      <td>...</td>\n",
       "      <td>...</td>\n",
       "    </tr>\n",
       "    <tr>\n",
       "      <th>53968</th>\n",
       "      <td>NaN</td>\n",
       "      <td>NaN</td>\n",
       "      <td>NaN</td>\n",
       "      <td>80.0</td>\n",
       "      <td>NaN</td>\n",
       "      <td>NaN</td>\n",
       "      <td>NaN</td>\n",
       "      <td>NaN</td>\n",
       "      <td>NaN</td>\n",
       "      <td>NaN</td>\n",
       "    </tr>\n",
       "    <tr>\n",
       "      <th>53969</th>\n",
       "      <td>NaN</td>\n",
       "      <td>NaN</td>\n",
       "      <td>NaN</td>\n",
       "      <td>NaN</td>\n",
       "      <td>NaN</td>\n",
       "      <td>NaN</td>\n",
       "      <td>NaN</td>\n",
       "      <td>NaN</td>\n",
       "      <td>NaN</td>\n",
       "      <td>NaN</td>\n",
       "    </tr>\n",
       "    <tr>\n",
       "      <th>53970</th>\n",
       "      <td>NaN</td>\n",
       "      <td>NaN</td>\n",
       "      <td>NaN</td>\n",
       "      <td>92.0</td>\n",
       "      <td>NaN</td>\n",
       "      <td>NaN</td>\n",
       "      <td>NaN</td>\n",
       "      <td>NaN</td>\n",
       "      <td>NaN</td>\n",
       "      <td>NaN</td>\n",
       "    </tr>\n",
       "    <tr>\n",
       "      <th>53971</th>\n",
       "      <td>NaN</td>\n",
       "      <td>NaN</td>\n",
       "      <td>NaN</td>\n",
       "      <td>76.0</td>\n",
       "      <td>NaN</td>\n",
       "      <td>NaN</td>\n",
       "      <td>NaN</td>\n",
       "      <td>NaN</td>\n",
       "      <td>NaN</td>\n",
       "      <td>NaN</td>\n",
       "    </tr>\n",
       "    <tr>\n",
       "      <th>53972</th>\n",
       "      <td>NaN</td>\n",
       "      <td>NaN</td>\n",
       "      <td>NaN</td>\n",
       "      <td>80.0</td>\n",
       "      <td>NaN</td>\n",
       "      <td>NaN</td>\n",
       "      <td>NaN</td>\n",
       "      <td>NaN</td>\n",
       "      <td>NaN</td>\n",
       "      <td>NaN</td>\n",
       "    </tr>\n",
       "  </tbody>\n",
       "</table>\n",
       "<p>53973 rows × 10 columns</p>\n",
       "</div>"
      ],
      "text/plain": [
       "       business_latitude  business_longitude  business_phone_number  \\\n",
       "0                    NaN                 NaN           1.415043e+10   \n",
       "1                    NaN                 NaN           1.415724e+10   \n",
       "2                    NaN                 NaN                    NaN   \n",
       "3                    NaN                 NaN           1.415488e+10   \n",
       "4                    NaN                 NaN                    NaN   \n",
       "...                  ...                 ...                    ...   \n",
       "53968                NaN                 NaN                    NaN   \n",
       "53969                NaN                 NaN                    NaN   \n",
       "53970                NaN                 NaN                    NaN   \n",
       "53971                NaN                 NaN                    NaN   \n",
       "53972                NaN                 NaN                    NaN   \n",
       "\n",
       "       inspection_score  Neighborhoods (old)  Police Districts  \\\n",
       "0                   NaN                  NaN               NaN   \n",
       "1                  96.0                  NaN               NaN   \n",
       "2                   NaN                  NaN               NaN   \n",
       "3                   NaN                  NaN               NaN   \n",
       "4                   NaN                  NaN               NaN   \n",
       "...                 ...                  ...               ...   \n",
       "53968              80.0                  NaN               NaN   \n",
       "53969               NaN                  NaN               NaN   \n",
       "53970              92.0                  NaN               NaN   \n",
       "53971              76.0                  NaN               NaN   \n",
       "53972              80.0                  NaN               NaN   \n",
       "\n",
       "       Supervisor Districts  Fire Prevention Districts  Zip Codes  \\\n",
       "0                       NaN                        NaN        NaN   \n",
       "1                       NaN                        NaN        NaN   \n",
       "2                       NaN                        NaN        NaN   \n",
       "3                       NaN                        NaN        NaN   \n",
       "4                       NaN                        NaN        NaN   \n",
       "...                     ...                        ...        ...   \n",
       "53968                   NaN                        NaN        NaN   \n",
       "53969                   NaN                        NaN        NaN   \n",
       "53970                   NaN                        NaN        NaN   \n",
       "53971                   NaN                        NaN        NaN   \n",
       "53972                   NaN                        NaN        NaN   \n",
       "\n",
       "       Analysis Neighborhoods  \n",
       "0                         NaN  \n",
       "1                         NaN  \n",
       "2                         NaN  \n",
       "3                         NaN  \n",
       "4                         NaN  \n",
       "...                       ...  \n",
       "53968                     NaN  \n",
       "53969                     NaN  \n",
       "53970                     NaN  \n",
       "53971                     NaN  \n",
       "53972                     NaN  \n",
       "\n",
       "[53973 rows x 10 columns]"
      ]
     },
     "execution_count": 8,
     "metadata": {},
     "output_type": "execute_result"
    }
   ],
   "source": [
    "df_num = df[num_cols]\n",
    "df_num"
   ]
  },
  {
   "cell_type": "code",
   "execution_count": 9,
   "id": "d2d8da0c",
   "metadata": {
    "scrolled": false
   },
   "outputs": [
    {
     "data": {
      "image/png": "[encoded data removed]",
      "text/plain": [
       "<Figure size 640x480 with 1 Axes>"
      ]
     },
     "metadata": {},
     "output_type": "display_data"
    },
    {
     "data": {
      "image/png": "[encoded data removed]",
      "text/plain": [
       "<Figure size 640x480 with 1 Axes>"
      ]
     },
     "metadata": {},
     "output_type": "display_data"
    },
    {
     "data": {
      "image/png": "[encoded data removed]",
      "text/plain": [
       "<Figure size 640x480 with 1 Axes>"
      ]
     },
     "metadata": {},
     "output_type": "display_data"
    },
    {
     "data": {
      "image/png": "[encoded data removed]",
      "text/plain": [
       "<Figure size 640x480 with 1 Axes>"
      ]
     },
     "metadata": {},
     "output_type": "display_data"
    },
    {
     "data": {
      "image/png": "[encoded data removed]",
      "text/plain": [
       "<Figure size 640x480 with 1 Axes>"
      ]
     },
     "metadata": {},
     "output_type": "display_data"
    },
    {
     "data": {
      "image/png": "[encoded data removed]",
      "text/plain": [
       "<Figure size 640x480 with 1 Axes>"
      ]
     },
     "metadata": {},
     "output_type": "display_data"
    },
    {
     "data": {
      "image/png": "[encoded data removed]",
      "text/plain": [
       "<Figure size 640x480 with 1 Axes>"
      ]
     },
     "metadata": {},
     "output_type": "display_data"
    },
    {
     "data": {
      "image/png": "[encoded data removed]",
      "text/plain": [
       "<Figure size 640x480 with 1 Axes>"
      ]
     },
     "metadata": {},
     "output_type": "display_data"
    },
    {
     "data": {
      "image/png": "[encoded data removed]",
      "text/plain": [
       "<Figure size 640x480 with 1 Axes>"
      ]
     },
     "metadata": {},
     "output_type": "display_data"
    },
    {
     "data": {
      "image/png": "[encoded data removed]",
      "text/plain": [
       "<Figure size 640x480 with 1 Axes>"
      ]
     },
     "metadata": {},
     "output_type": "display_data"
    }
   ],
   "source": [
    "for col in df_num:\n",
    "    plt.hist(df[col], 50)\n",
    "    plt.xlabel(col)\n",
    "    plt.show()"
   ]
  },
  {
   "cell_type": "markdown",
   "id": "53322470",
   "metadata": {},
   "source": [
    "Для обработки пропусков возьмем колонку Neighborhoods (old). Заметим, что данные распредлены волнами, поэтому для обработки будем использовать более сложную функцию, которая позволяет задавать колонку и вид импьютации"
   ]
  },
  {
   "cell_type": "code",
   "execution_count": 10,
   "id": "d221e4f3",
   "metadata": {},
   "outputs": [],
   "source": [
    "strategies=['mean', 'median', 'most_frequent'] "
   ]
  },
  {
   "cell_type": "code",
   "execution_count": 11,
   "id": "9e2c61d0",
   "metadata": {},
   "outputs": [],
   "source": [
    "def test_num_impute_col(dataset, column, strategy_param):\n",
    "    temp_data = dataset[[column]]\n",
    "    \n",
    "    indicator = MissingIndicator()\n",
    "    mask_missing_values_only = indicator.fit_transform(temp_data)\n",
    "    \n",
    "    imp_num = SimpleImputer(strategy=strategy_param)\n",
    "    data_num_imp = imp_num.fit_transform(temp_data)\n",
    "    \n",
    "    filled_data = data_num_imp[mask_missing_values_only]\n",
    "    \n",
    "    return column, strategy_param, filled_data.size, filled_data[0], filled_data[filled_data.size-1]"
   ]
  },
  {
   "cell_type": "code",
   "execution_count": 12,
   "id": "0e05c951",
   "metadata": {},
   "outputs": [
    {
     "data": {
      "text/plain": [
       "('Neighborhoods (old)', 'mean', 19594, 19.048052590244044, 19.048052590244044)"
      ]
     },
     "execution_count": 12,
     "metadata": {},
     "output_type": "execute_result"
    }
   ],
   "source": [
    "test_num_impute_col(df, 'Neighborhoods (old)', strategies[0])"
   ]
  },
  {
   "cell_type": "code",
   "execution_count": 13,
   "id": "3de402cc",
   "metadata": {},
   "outputs": [
    {
     "data": {
      "text/plain": [
       "('Neighborhoods (old)', 'median', 19594, 19.0, 19.0)"
      ]
     },
     "execution_count": 13,
     "metadata": {},
     "output_type": "execute_result"
    }
   ],
   "source": [
    "test_num_impute_col(df, 'Neighborhoods (old)', strategies[1])"
   ]
  },
  {
   "cell_type": "code",
   "execution_count": 14,
   "id": "405fc91f",
   "metadata": {},
   "outputs": [
    {
     "name": "stderr",
     "output_type": "stream",
     "text": [
      "/Users/liza/opt/anaconda3/lib/python3.9/site-packages/sklearn/impute/_base.py:49: FutureWarning: Unlike other reduction functions (e.g. `skew`, `kurtosis`), the default behavior of `mode` typically preserves the axis it acts along. In SciPy 1.11.0, this behavior will change: the default value of `keepdims` will become False, the `axis` over which the statistic is taken will be eliminated, and the value None will no longer be accepted. Set `keepdims` to True or False to avoid this warning.\n",
      "  mode = stats.mode(array)\n"
     ]
    },
    {
     "data": {
      "text/plain": [
       "('Neighborhoods (old)', 'most_frequent', 19594, 19.0, 19.0)"
      ]
     },
     "execution_count": 14,
     "metadata": {},
     "output_type": "execute_result"
    }
   ],
   "source": [
    "test_num_impute_col(df, 'Neighborhoods (old)', strategies[2])"
   ]
  },
  {
   "cell_type": "markdown",
   "id": "1dc211d5",
   "metadata": {},
   "source": [
    "Заметим, что стратегии распределились одинаково, что было заметно и на графике, поэтому заполним пропуски медианой"
   ]
  },
  {
   "cell_type": "code",
   "execution_count": 15,
   "id": "0a47dcd8",
   "metadata": {},
   "outputs": [],
   "source": [
    "df['Neighborhoods (old)'] = df['Neighborhoods (old)'].fillna(df['Neighborhoods (old)'].median())"
   ]
  },
  {
   "cell_type": "code",
   "execution_count": 16,
   "id": "0f04282d",
   "metadata": {},
   "outputs": [
    {
     "name": "stdout",
     "output_type": "stream",
     "text": [
      "Колонка business_postal_code. Тип данных object. Количество пустых значений 1018, 1.89%.\n",
      "Колонка business_location. Тип данных object. Количество пустых значений 19556, 36.23%.\n",
      "Колонка violation_id. Тип данных object. Количество пустых значений 12870, 23.85%.\n",
      "Колонка violation_description. Тип данных object. Количество пустых значений 12870, 23.85%.\n",
      "Колонка risk_category. Тип данных object. Количество пустых значений 12870, 23.85%.\n"
     ]
    }
   ],
   "source": [
    "num_cols = []\n",
    "for col in df.columns:\n",
    "    # Количество пустых значений \n",
    "    temp_null_count = df[df[col].isnull()].shape[0]\n",
    "    dt = str(df[col].dtype)\n",
    "    if temp_null_count>0 and dt=='object' :\n",
    "        num_cols.append(col)\n",
    "        temp_perc = round((temp_null_count / total_count) * 100.0, 2)\n",
    "        print('Колонка {}. Тип данных {}. Количество пустых значений {}, {}%.'.format(col, dt, temp_null_count, temp_perc))"
   ]
  },
  {
   "cell_type": "code",
   "execution_count": 17,
   "id": "c8715761",
   "metadata": {},
   "outputs": [
    {
     "data": {
      "text/html": [
       "<div>\n",
       "<style scoped>\n",
       "    .dataframe tbody tr th:only-of-type {\n",
       "        vertical-align: middle;\n",
       "    }\n",
       "\n",
       "    .dataframe tbody tr th {\n",
       "        vertical-align: top;\n",
       "    }\n",
       "\n",
       "    .dataframe thead th {\n",
       "        text-align: right;\n",
       "    }\n",
       "</style>\n",
       "<table border=\"1\" class=\"dataframe\">\n",
       "  <thead>\n",
       "    <tr style=\"text-align: right;\">\n",
       "      <th></th>\n",
       "      <th>business_postal_code</th>\n",
       "      <th>business_location</th>\n",
       "      <th>violation_id</th>\n",
       "      <th>violation_description</th>\n",
       "      <th>risk_category</th>\n",
       "    </tr>\n",
       "  </thead>\n",
       "  <tbody>\n",
       "    <tr>\n",
       "      <th>0</th>\n",
       "      <td>NaN</td>\n",
       "      <td>NaN</td>\n",
       "      <td>NaN</td>\n",
       "      <td>NaN</td>\n",
       "      <td>NaN</td>\n",
       "    </tr>\n",
       "    <tr>\n",
       "      <th>1</th>\n",
       "      <td>94118</td>\n",
       "      <td>NaN</td>\n",
       "      <td>97975_20190725_103124</td>\n",
       "      <td>Inadequately cleaned or sanitized food contact...</td>\n",
       "      <td>Moderate Risk</td>\n",
       "    </tr>\n",
       "    <tr>\n",
       "      <th>2</th>\n",
       "      <td>94110</td>\n",
       "      <td>NaN</td>\n",
       "      <td>NaN</td>\n",
       "      <td>NaN</td>\n",
       "      <td>NaN</td>\n",
       "    </tr>\n",
       "    <tr>\n",
       "      <th>3</th>\n",
       "      <td>94111</td>\n",
       "      <td>NaN</td>\n",
       "      <td>NaN</td>\n",
       "      <td>NaN</td>\n",
       "      <td>NaN</td>\n",
       "    </tr>\n",
       "    <tr>\n",
       "      <th>4</th>\n",
       "      <td>94109</td>\n",
       "      <td>NaN</td>\n",
       "      <td>85986_20161011_103114</td>\n",
       "      <td>High risk vermin infestation</td>\n",
       "      <td>High Risk</td>\n",
       "    </tr>\n",
       "    <tr>\n",
       "      <th>...</th>\n",
       "      <td>...</td>\n",
       "      <td>...</td>\n",
       "      <td>...</td>\n",
       "      <td>...</td>\n",
       "      <td>...</td>\n",
       "    </tr>\n",
       "    <tr>\n",
       "      <th>53968</th>\n",
       "      <td>94107</td>\n",
       "      <td>NaN</td>\n",
       "      <td>89569_20190506_103124</td>\n",
       "      <td>Inadequately cleaned or sanitized food contact...</td>\n",
       "      <td>Moderate Risk</td>\n",
       "    </tr>\n",
       "    <tr>\n",
       "      <th>53969</th>\n",
       "      <td>94132</td>\n",
       "      <td>NaN</td>\n",
       "      <td>NaN</td>\n",
       "      <td>NaN</td>\n",
       "      <td>NaN</td>\n",
       "    </tr>\n",
       "    <tr>\n",
       "      <th>53970</th>\n",
       "      <td>94105</td>\n",
       "      <td>NaN</td>\n",
       "      <td>84541_20190506_103133</td>\n",
       "      <td>Foods not protected from contamination</td>\n",
       "      <td>Moderate Risk</td>\n",
       "    </tr>\n",
       "    <tr>\n",
       "      <th>53971</th>\n",
       "      <td>94112</td>\n",
       "      <td>NaN</td>\n",
       "      <td>91572_20190506_103116</td>\n",
       "      <td>Inadequate food safety knowledge or lack of ce...</td>\n",
       "      <td>Moderate Risk</td>\n",
       "    </tr>\n",
       "    <tr>\n",
       "      <th>53972</th>\n",
       "      <td>94107</td>\n",
       "      <td>NaN</td>\n",
       "      <td>89569_20190506_103157</td>\n",
       "      <td>Food safety certificate or food handler card n...</td>\n",
       "      <td>Low Risk</td>\n",
       "    </tr>\n",
       "  </tbody>\n",
       "</table>\n",
       "<p>53973 rows × 5 columns</p>\n",
       "</div>"
      ],
      "text/plain": [
       "      business_postal_code business_location           violation_id  \\\n",
       "0                      NaN               NaN                    NaN   \n",
       "1                    94118               NaN  97975_20190725_103124   \n",
       "2                    94110               NaN                    NaN   \n",
       "3                    94111               NaN                    NaN   \n",
       "4                    94109               NaN  85986_20161011_103114   \n",
       "...                    ...               ...                    ...   \n",
       "53968                94107               NaN  89569_20190506_103124   \n",
       "53969                94132               NaN                    NaN   \n",
       "53970                94105               NaN  84541_20190506_103133   \n",
       "53971                94112               NaN  91572_20190506_103116   \n",
       "53972                94107               NaN  89569_20190506_103157   \n",
       "\n",
       "                                   violation_description  risk_category  \n",
       "0                                                    NaN            NaN  \n",
       "1      Inadequately cleaned or sanitized food contact...  Moderate Risk  \n",
       "2                                                    NaN            NaN  \n",
       "3                                                    NaN            NaN  \n",
       "4                           High risk vermin infestation      High Risk  \n",
       "...                                                  ...            ...  \n",
       "53968  Inadequately cleaned or sanitized food contact...  Moderate Risk  \n",
       "53969                                                NaN            NaN  \n",
       "53970             Foods not protected from contamination  Moderate Risk  \n",
       "53971  Inadequate food safety knowledge or lack of ce...  Moderate Risk  \n",
       "53972  Food safety certificate or food handler card n...       Low Risk  \n",
       "\n",
       "[53973 rows x 5 columns]"
      ]
     },
     "execution_count": 17,
     "metadata": {},
     "output_type": "execute_result"
    }
   ],
   "source": [
    "df_num = df[num_cols]\n",
    "df_num"
   ]
  },
  {
   "cell_type": "code",
   "execution_count": 18,
   "id": "3c8877a4",
   "metadata": {},
   "outputs": [
    {
     "data": {
      "text/html": [
       "<div>\n",
       "<style scoped>\n",
       "    .dataframe tbody tr th:only-of-type {\n",
       "        vertical-align: middle;\n",
       "    }\n",
       "\n",
       "    .dataframe tbody tr th {\n",
       "        vertical-align: top;\n",
       "    }\n",
       "\n",
       "    .dataframe thead th {\n",
       "        text-align: right;\n",
       "    }\n",
       "</style>\n",
       "<table border=\"1\" class=\"dataframe\">\n",
       "  <thead>\n",
       "    <tr style=\"text-align: right;\">\n",
       "      <th></th>\n",
       "      <th>risk_category</th>\n",
       "    </tr>\n",
       "  </thead>\n",
       "  <tbody>\n",
       "    <tr>\n",
       "      <th>0</th>\n",
       "      <td>NaN</td>\n",
       "    </tr>\n",
       "    <tr>\n",
       "      <th>1</th>\n",
       "      <td>Moderate Risk</td>\n",
       "    </tr>\n",
       "    <tr>\n",
       "      <th>2</th>\n",
       "      <td>NaN</td>\n",
       "    </tr>\n",
       "    <tr>\n",
       "      <th>3</th>\n",
       "      <td>NaN</td>\n",
       "    </tr>\n",
       "    <tr>\n",
       "      <th>4</th>\n",
       "      <td>High Risk</td>\n",
       "    </tr>\n",
       "  </tbody>\n",
       "</table>\n",
       "</div>"
      ],
      "text/plain": [
       "   risk_category\n",
       "0            NaN\n",
       "1  Moderate Risk\n",
       "2            NaN\n",
       "3            NaN\n",
       "4      High Risk"
      ]
     },
     "execution_count": 18,
     "metadata": {},
     "output_type": "execute_result"
    }
   ],
   "source": [
    "cat_temp_data = df[['risk_category']]\n",
    "cat_temp_data.head()"
   ]
  },
  {
   "cell_type": "code",
   "execution_count": 19,
   "id": "5c4d09bc",
   "metadata": {},
   "outputs": [
    {
     "data": {
      "text/plain": [
       "array([['Low Risk'],\n",
       "       ['Moderate Risk'],\n",
       "       ['Low Risk'],\n",
       "       ...,\n",
       "       ['Moderate Risk'],\n",
       "       ['Moderate Risk'],\n",
       "       ['Low Risk']], dtype=object)"
      ]
     },
     "execution_count": 19,
     "metadata": {},
     "output_type": "execute_result"
    }
   ],
   "source": [
    "imp2 = SimpleImputer(missing_values=np.nan, strategy='most_frequent')\n",
    "data_imp2 = imp2.fit_transform(cat_temp_data)\n",
    "data_imp2"
   ]
  },
  {
   "cell_type": "code",
   "execution_count": 20,
   "id": "4bbe63ae",
   "metadata": {},
   "outputs": [
    {
     "data": {
      "text/plain": [
       "array(['High Risk', 'Low Risk', 'Moderate Risk'], dtype=object)"
      ]
     },
     "execution_count": 20,
     "metadata": {},
     "output_type": "execute_result"
    }
   ],
   "source": [
    "np.unique(data_imp2)"
   ]
  },
  {
   "cell_type": "code",
   "execution_count": 22,
   "id": "436fa063",
   "metadata": {},
   "outputs": [
    {
     "name": "stdout",
     "output_type": "stream",
     "text": [
      "Количество вхожденией по High Risk равно 5983\n",
      "Количество вхожденией по Low Risk равно 32375\n",
      "Количество вхожденией по Moderate Risk равно 15615\n"
     ]
    }
   ],
   "source": [
    "col = ['High Risk', 'Low Risk', 'Moderate Risk']\n",
    "for i in col: \n",
    "    k = data_imp2[data_imp2==i].size\n",
    "    print('Количество вхожденией по {} равно {}'.format(i, k))"
   ]
  },
  {
   "cell_type": "code",
   "execution_count": 23,
   "id": "df1e9117",
   "metadata": {},
   "outputs": [
    {
     "data": {
      "text/plain": [
       "array([['Low Risk'],\n",
       "       ['Moderate Risk'],\n",
       "       ['Low Risk'],\n",
       "       ...,\n",
       "       ['Moderate Risk'],\n",
       "       ['Moderate Risk'],\n",
       "       ['Low Risk']], dtype=object)"
      ]
     },
     "execution_count": 23,
     "metadata": {},
     "output_type": "execute_result"
    }
   ],
   "source": [
    "imp3 = SimpleImputer(missing_values=np.nan, strategy='constant', fill_value='Low Risk')\n",
    "data_imp3 = imp3.fit_transform(cat_temp_data)\n",
    "data_imp3"
   ]
  },
  {
   "cell_type": "markdown",
   "id": "aa5e9d05",
   "metadata": {},
   "source": [
    "Так количество пропусков > 10%, поэтому не до конца логично будет заполнять их самой встречающейся категорией, тк в дольнейшем это может исказить реальную картину данных, поэтому заполним пропуски Unknown"
   ]
  },
  {
   "cell_type": "code",
   "execution_count": 24,
   "id": "d73c05f2",
   "metadata": {},
   "outputs": [],
   "source": [
    "df['risk_category']= df['risk_category'].fillna('unk')"
   ]
  },
  {
   "cell_type": "code",
   "execution_count": null,
   "id": "a748defa",
   "metadata": {},
   "outputs": [],
   "source": []
  }
 ],
 "metadata": {
  "kernelspec": {
   "display_name": "Python 3 (ipykernel)",
   "language": "python",
   "name": "python3"
  },
  "language_info": {
   "codemirror_mode": {
    "name": "ipython",
    "version": 3
   },
   "file_extension": ".py",
   "mimetype": "text/x-python",
   "name": "python",
   "nbconvert_exporter": "python",
   "pygments_lexer": "ipython3",
   "version": "3.9.13"
  }
 },
 "nbformat": 4,
 "nbformat_minor": 5
}
